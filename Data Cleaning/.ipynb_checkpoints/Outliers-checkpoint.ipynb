{
 "cells": [
  {
   "cell_type": "markdown",
   "id": "10e691d6",
   "metadata": {},
   "source": [
    "# 🤨 ¿Que son los valores atípicos?"
   ]
  },
  {
   "cell_type": "markdown",
   "id": "f913b07d",
   "metadata": {},
   "source": [
    "Los valores atípicos, también conocidos como outliers en inglés, son puntos de datos que se desvían significativamente del resto de la distribución en un conjunto de datos. Estos valores son diferentes en magnitud con respecto a la mayoría de las observaciones y pueden afectar negativamente el análisis estadístico y la interpretación de los resultados. Los valores atípicos pueden surgir por diversas razones, como errores de medición, eventos inusuales o simplemente variabilidad natural en los datos.\n",
    "\n",
    "La presencia de valores atípicos puede tener importantes implicaciones en el análisis de datos. Pueden sesgar las estadísticas descriptivas, como la media y la desviación estándar, haciendo que estas medidas sean menos representativas del conjunto de datos. Además, los valores atípicos pueden afectar la validez de ciertos métodos estadísticos que asumen una distribución normal de los datos.\n",
    "\n",
    "---\n",
    "\n",
    "Se puede calcularlos utilizando el rango intercuartilico (IQR)\n",
    "\n",
    "1. **Calcular los cuartiles:**\n",
    "   - Ordena los datos de menor a mayor.\n",
    "   - Calcula el primer cuartil (Q1) y el tercer cuartil (Q3).\n",
    "   - El rango intercuartílico (IQR) se define como la diferencia entre Q3 y Q1: $IQR = Q3 - Q1$.\n",
    "\n",
    "2. **Identificar límites para los valores atípicos:**\n",
    "   - Calcula los límites superior e inferior para los valores atípicos.\n",
    "   - $Limite \\ inferior = Q1 - 1.5 \\times IQR$\n",
    "   - $Limite \\ superior = Q3 + 1.5 \\times IQR$\n",
    "\n",
    "3. **Detectar valores atípicos:**\n",
    "   - Los valores que estén por debajo del límite inferior o por encima del límite superior son considerados valores atípicos.\n",
    "\n",
    "---\n",
    "\n",
    "Los **boxplots** proporcionan una visualización efectiva de la distribución de los datos y son útiles para identificar valores atípicos:\n",
    "\n",
    "1. **Dibujo del boxplot**:\n",
    "   - El rectángulo (o \"caja\") representa el rango intercuartílico (IQR), desde el primer cuartil (Q1) hasta el tercer cuartil (Q3).\n",
    "   - La línea dentro de la caja es la mediana.\n",
    "   - Los \"bigotes\" se extienden desde la caja hasta los valores más extremos dentro de 1.5 veces el IQR.\n",
    "\n",
    "2. **Puntos fuera de los bigotes**:\n",
    "   - Cualquier punto más allá de los bigotes se considera un valor atípico y se grafica individualmente."
   ]
  },
  {
   "cell_type": "markdown",
   "id": "16ba189f",
   "metadata": {},
   "source": [
    "## 🔎 Detectar *outliers* o valores atípicos"
   ]
  },
  {
   "cell_type": "code",
   "execution_count": 1,
   "id": "fe471b8a",
   "metadata": {},
   "outputs": [],
   "source": [
    "import pandas as pd\n",
    "import seaborn as sns"
   ]
  },
  {
   "cell_type": "code",
   "execution_count": 2,
   "id": "e10daf02",
   "metadata": {},
   "outputs": [
    {
     "data": {
      "text/html": [
       "<div>\n",
       "<style scoped>\n",
       "    .dataframe tbody tr th:only-of-type {\n",
       "        vertical-align: middle;\n",
       "    }\n",
       "\n",
       "    .dataframe tbody tr th {\n",
       "        vertical-align: top;\n",
       "    }\n",
       "\n",
       "    .dataframe thead th {\n",
       "        text-align: right;\n",
       "    }\n",
       "</style>\n",
       "<table border=\"1\" class=\"dataframe\">\n",
       "  <thead>\n",
       "    <tr style=\"text-align: right;\">\n",
       "      <th></th>\n",
       "      <th>column</th>\n",
       "    </tr>\n",
       "  </thead>\n",
       "  <tbody>\n",
       "    <tr>\n",
       "      <th>0</th>\n",
       "      <td>50</td>\n",
       "    </tr>\n",
       "    <tr>\n",
       "      <th>1</th>\n",
       "      <td>16</td>\n",
       "    </tr>\n",
       "    <tr>\n",
       "      <th>2</th>\n",
       "      <td>17</td>\n",
       "    </tr>\n",
       "    <tr>\n",
       "      <th>3</th>\n",
       "      <td>16</td>\n",
       "    </tr>\n",
       "    <tr>\n",
       "      <th>4</th>\n",
       "      <td>17</td>\n",
       "    </tr>\n",
       "  </tbody>\n",
       "</table>\n",
       "</div>"
      ],
      "text/plain": [
       "   column\n",
       "0      50\n",
       "1      16\n",
       "2      17\n",
       "3      16\n",
       "4      17"
      ]
     },
     "execution_count": 2,
     "metadata": {},
     "output_type": "execute_result"
    }
   ],
   "source": [
    "df = pd.DataFrame({'column' : [50,16,17,16,17,18,16,17,18,16,17,16,17,16,18,16,16,16,16,16,16,16,16]})\n",
    "df.head()"
   ]
  },
  {
   "cell_type": "code",
   "execution_count": 3,
   "id": "845460ba",
   "metadata": {},
   "outputs": [
    {
     "name": "stdout",
     "output_type": "stream",
     "text": [
      "Valores atípicos seran los que se encuentren fuera de los limites\n",
      "Limite inferior = 14.5\n",
      "Limite superior = 18.5\n"
     ]
    }
   ],
   "source": [
    "Q3 = df.column.quantile(0.75)\n",
    "Q1 = df.column.quantile(0.25)\n",
    "IQR = Q3 - Q1\n",
    "\n",
    "print('Valores atípicos seran los que se encuentren fuera de los limites')\n",
    "print(f'Limite inferior = {Q1 - 1.5 * IQR}' )\n",
    "print(f'Limite superior = {Q3 + 1.5 * IQR}' )"
   ]
  },
  {
   "cell_type": "code",
   "execution_count": 4,
   "id": "fa2da8ae",
   "metadata": {},
   "outputs": [
    {
     "data": {
      "text/plain": [
       "column    50\n",
       "dtype: int64"
      ]
     },
     "execution_count": 4,
     "metadata": {},
     "output_type": "execute_result"
    }
   ],
   "source": [
    "# Valor maximo\n",
    "df.max()"
   ]
  },
  {
   "cell_type": "code",
   "execution_count": 5,
   "id": "9d7a2ee0",
   "metadata": {},
   "outputs": [
    {
     "data": {
      "text/plain": [
       "<Axes: >"
      ]
     },
     "execution_count": 5,
     "metadata": {},
     "output_type": "execute_result"
    },
    {
     "data": {
      "image/png": "[encoded data removed]",
      "text/plain": [
       "<Figure size 640x480 with 1 Axes>"
      ]
     },
     "metadata": {},
     "output_type": "display_data"
    }
   ],
   "source": [
    "df.column.plot(kind = 'box')\n",
    "\n",
    "# Como vemos, hay un solo outlier que es el registro de 50"
   ]
  },
  {
   "cell_type": "markdown",
   "id": "881ae4cc",
   "metadata": {},
   "source": [
    "---\n",
    "## 🗑️ Eliminar los outliers"
   ]
  },
  {
   "cell_type": "code",
   "execution_count": 6,
   "id": "fe3b8741",
   "metadata": {},
   "outputs": [],
   "source": [
    "filtro = (df.column < Q1 - 1.5 * IQR) | (df.column < Q3 + 1.5 * IQR)\n",
    "df = df[filtro]"
   ]
  },
  {
   "cell_type": "code",
   "execution_count": 7,
   "id": "edf1c6a0",
   "metadata": {},
   "outputs": [
    {
     "data": {
      "text/plain": [
       "column    18\n",
       "dtype: int64"
      ]
     },
     "execution_count": 7,
     "metadata": {},
     "output_type": "execute_result"
    }
   ],
   "source": [
    "# Valor maximo\n",
    "df.max()"
   ]
  },
  {
   "cell_type": "code",
   "execution_count": 8,
   "id": "9a91c80b",
   "metadata": {},
   "outputs": [
    {
     "data": {
      "text/plain": [
       "<Axes: >"
      ]
     },
     "execution_count": 8,
     "metadata": {},
     "output_type": "execute_result"
    },
    {
     "data": {
      "image/png": "[encoded data removed]",
      "text/plain": [
       "<Figure size 640x480 with 1 Axes>"
      ]
     },
     "metadata": {},
     "output_type": "display_data"
    }
   ],
   "source": [
    "df.column.plot(kind = 'box')"
   ]
  }
 ],
 "metadata": {
  "kernelspec": {
   "display_name": "Python 3 (ipykernel)",
   "language": "python",
   "name": "python3"
  },
  "language_info": {
   "codemirror_mode": {
    "name": "ipython",
    "version": 3
   },
   "file_extension": ".py",
   "mimetype": "text/x-python",
   "name": "python",
   "nbconvert_exporter": "python",
   "pygments_lexer": "ipython3",
   "version": "3.11.4"
  }
 },
 "nbformat": 4,
 "nbformat_minor": 5
}
