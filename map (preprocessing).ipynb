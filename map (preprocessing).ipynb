{
 "cells": [
  {
   "cell_type": "markdown",
   "id": "e075b6f6",
   "metadata": {},
   "source": [
    "# 🚊 Función map() de Pandas"
   ]
  },
  {
   "cell_type": "markdown",
   "id": "0059389f",
   "metadata": {},
   "source": [
    "La función map en pandas se utiliza para aplicar una función o un mapeo a los elementos de una Serie (columna de datos) en un DataFrame. Permite transformar los valores de una columna de acuerdo con una función definida por el usuario o un diccionario de mapeo. Esta función es especialmente útil cuando se desea realizar una operación de transformación elemento por elemento en una Serie."
   ]
  },
  {
   "cell_type": "code",
   "execution_count": 1,
   "id": "a44e0264",
   "metadata": {},
   "outputs": [],
   "source": [
    "import pandas as pd"
   ]
  },
  {
   "cell_type": "code",
   "execution_count": 2,
   "id": "96d3ef87",
   "metadata": {},
   "outputs": [],
   "source": [
    "# Crear un DataFrame de ejemplo con una columna categórica ordinal\n",
    "data = {'Categoría': ['bajo', 'medio', 'alto', 'medio', 'bajo']}\n",
    "df = pd.DataFrame(data)"
   ]
  },
  {
   "cell_type": "code",
   "execution_count": 3,
   "id": "fafbee6c",
   "metadata": {},
   "outputs": [],
   "source": [
    "# Definir el orden personalizado de las categorías\n",
    "orden_personalizado = {'bajo': 0, 'medio': 1, 'alto': 2}"
   ]
  },
  {
   "cell_type": "code",
   "execution_count": 4,
   "id": "3acb7c9a",
   "metadata": {},
   "outputs": [],
   "source": [
    "# Mapear las categorías al orden personalizado utilizando la función map\n",
    "df['Categoría_codificada'] = df['Categoría'].map(orden_personalizado)"
   ]
  },
  {
   "cell_type": "code",
   "execution_count": 5,
   "id": "4dfb1768",
   "metadata": {},
   "outputs": [
    {
     "data": {
      "text/html": [
       "<div>\n",
       "<style scoped>\n",
       "    .dataframe tbody tr th:only-of-type {\n",
       "        vertical-align: middle;\n",
       "    }\n",
       "\n",
       "    .dataframe tbody tr th {\n",
       "        vertical-align: top;\n",
       "    }\n",
       "\n",
       "    .dataframe thead th {\n",
       "        text-align: right;\n",
       "    }\n",
       "</style>\n",
       "<table border=\"1\" class=\"dataframe\">\n",
       "  <thead>\n",
       "    <tr style=\"text-align: right;\">\n",
       "      <th></th>\n",
       "      <th>Categoría</th>\n",
       "      <th>Categoría_codificada</th>\n",
       "    </tr>\n",
       "  </thead>\n",
       "  <tbody>\n",
       "    <tr>\n",
       "      <th>2</th>\n",
       "      <td>alto</td>\n",
       "      <td>2</td>\n",
       "    </tr>\n",
       "    <tr>\n",
       "      <th>1</th>\n",
       "      <td>medio</td>\n",
       "      <td>1</td>\n",
       "    </tr>\n",
       "    <tr>\n",
       "      <th>3</th>\n",
       "      <td>medio</td>\n",
       "      <td>1</td>\n",
       "    </tr>\n",
       "    <tr>\n",
       "      <th>0</th>\n",
       "      <td>bajo</td>\n",
       "      <td>0</td>\n",
       "    </tr>\n",
       "    <tr>\n",
       "      <th>4</th>\n",
       "      <td>bajo</td>\n",
       "      <td>0</td>\n",
       "    </tr>\n",
       "  </tbody>\n",
       "</table>\n",
       "</div>"
      ],
      "text/plain": [
       "  Categoría  Categoría_codificada\n",
       "2      alto                     2\n",
       "1     medio                     1\n",
       "3     medio                     1\n",
       "0      bajo                     0\n",
       "4      bajo                     0"
      ]
     },
     "execution_count": 5,
     "metadata": {},
     "output_type": "execute_result"
    }
   ],
   "source": [
    "df.sort_values('Categoría_codificada', ascending = False)"
   ]
  }
 ],
 "metadata": {
  "kernelspec": {
   "display_name": "Python 3 (ipykernel)",
   "language": "python",
   "name": "python3"
  },
  "language_info": {
   "codemirror_mode": {
    "name": "ipython",
    "version": 3
   },
   "file_extension": ".py",
   "mimetype": "text/x-python",
   "name": "python",
   "nbconvert_exporter": "python",
   "pygments_lexer": "ipython3",
   "version": "3.11.4"
  }
 },
 "nbformat": 4,
 "nbformat_minor": 5
}
