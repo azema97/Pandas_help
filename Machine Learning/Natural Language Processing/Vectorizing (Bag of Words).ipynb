{
 "cells": [
  {
   "cell_type": "markdown",
   "id": "fb4c5fe8",
   "metadata": {},
   "source": [
    "# 📗 Vectorizing (BOW)\n",
    "\n",
    "La vectorización en el procesamiento del lenguaje natural (NLP) se refiere al **proceso de convertir texto en datos numéricos, es decir, representar el texto como vectores numéricos**. Este paso es esencial para que los algoritmos de aprendizaje automático puedan trabajar con datos de texto, ya que la mayoría de los algoritmos requieren entradas numéricas.\n",
    "\n",
    "El modelo \"Bag of Words\" (BoW) es una técnica común de vectorización en NLP. En el enfoque BoW, se crea un \"saco de palabras\" que representa el documento como un conjunto no ordenado de palabras, ignorando la estructura gramatical y el orden de las palabras. Cada palabra en el vocabulario se asocia con un índice único, y el vector resultante indica la frecuencia de cada palabra en el documento.\n",
    "\n",
    "Aquí tienes un ejemplo de cómo realizar la vectorización usando `CountVectorizer` de la biblioteca scikit-learn, que también se puede usar en conjunto con NLTK para preprocesar el texto:"
   ]
  },
  {
   "cell_type": "code",
   "execution_count": 1,
   "id": "a4cad593",
   "metadata": {},
   "outputs": [
    {
     "name": "stderr",
     "output_type": "stream",
     "text": [
      "[nltk_data] Downloading package punkt to\n",
      "[nltk_data]     C:\\Users\\USURIO\\AppData\\Roaming\\nltk_data...\n",
      "[nltk_data]   Package punkt is already up-to-date!\n",
      "[nltk_data] Downloading package stopwords to\n",
      "[nltk_data]     C:\\Users\\USURIO\\AppData\\Roaming\\nltk_data...\n",
      "[nltk_data]   Package stopwords is already up-to-date!\n"
     ]
    },
    {
     "data": {
      "text/plain": [
       "True"
      ]
     },
     "execution_count": 1,
     "metadata": {},
     "output_type": "execute_result"
    }
   ],
   "source": [
    "import nltk\n",
    "from nltk.corpus import stopwords\n",
    "from sklearn.feature_extraction.text import CountVectorizer\n",
    "\n",
    "# Descargar recursos necesarios de NLTK\n",
    "nltk.download('punkt')\n",
    "nltk.download('stopwords')"
   ]
  },
  {
   "cell_type": "code",
   "execution_count": 2,
   "id": "64789386",
   "metadata": {},
   "outputs": [],
   "source": [
    "# Texto de ejemplo\n",
    "documento = [\n",
    "    \"La vectorización en NLP es importante para representar texto numéricamente.\",\n",
    "    \"Bag of Words es una técnica común de vectorización en procesamiento del lenguaje natural.\"\n",
    "]"
   ]
  },
  {
   "cell_type": "code",
   "execution_count": 3,
   "id": "34c42ae0",
   "metadata": {},
   "outputs": [],
   "source": [
    "# Tokenización y eliminación de palabras vacías (stopwords)\n",
    "stop_words = set(stopwords.words('spanish'))\n",
    "vectorizer = CountVectorizer(stop_words=list(stop_words))  # Convertir set a list"
   ]
  },
  {
   "cell_type": "code",
   "execution_count": 4,
   "id": "928949c6",
   "metadata": {},
   "outputs": [],
   "source": [
    "# Aplicar CountVectorizer para vectorizar el texto\n",
    "matriz_vectores = vectorizer.fit_transform(documento)"
   ]
  },
  {
   "cell_type": "code",
   "execution_count": 5,
   "id": "240f1415",
   "metadata": {},
   "outputs": [],
   "source": [
    "# Obtener el vocabulario y las características\n",
    "vocabulario = vectorizer.get_feature_names_out()\n",
    "caracteristicas = matriz_vectores.toarray()"
   ]
  },
  {
   "cell_type": "code",
   "execution_count": 6,
   "id": "12497464",
   "metadata": {},
   "outputs": [
    {
     "name": "stdout",
     "output_type": "stream",
     "text": [
      "Vocabulario:\n",
      "['bag' 'común' 'importante' 'lenguaje' 'natural' 'nlp' 'numéricamente'\n",
      " 'of' 'procesamiento' 'representar' 'texto' 'técnica' 'vectorización'\n",
      " 'words']\n",
      "\n",
      "Matriz de Características:\n",
      "[[0 0 1 0 0 1 1 0 0 1 1 0 1 0]\n",
      " [1 1 0 1 1 0 0 1 1 0 0 1 1 1]]\n"
     ]
    }
   ],
   "source": [
    "# Imprimir el resultado\n",
    "print(\"Vocabulario:\")\n",
    "print(vocabulario)\n",
    "print(\"\\nMatriz de Características:\")\n",
    "print(caracteristicas)"
   ]
  },
  {
   "cell_type": "code",
   "execution_count": null,
   "id": "8e639042",
   "metadata": {},
   "outputs": [],
   "source": []
  }
 ],
 "metadata": {
  "kernelspec": {
   "display_name": "Python 3 (ipykernel)",
   "language": "python",
   "name": "python3"
  },
  "language_info": {
   "codemirror_mode": {
    "name": "ipython",
    "version": 3
   },
   "file_extension": ".py",
   "mimetype": "text/x-python",
   "name": "python",
   "nbconvert_exporter": "python",
   "pygments_lexer": "ipython3",
   "version": "3.11.4"
  }
 },
 "nbformat": 4,
 "nbformat_minor": 5
}
