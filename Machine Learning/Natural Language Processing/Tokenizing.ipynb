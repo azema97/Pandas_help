{
 "cells": [
  {
   "cell_type": "markdown",
   "id": "d3ef31a9",
   "metadata": {},
   "source": [
    "# 📗 Tokenizar\n",
    "\n",
    "**Tokenizar** en el procesamiento del lenguaje natural (NLP) se refiere al proceso de dividir un texto en unidades más pequeñas llamadas \"tokens\". Estos tokens pueden ser palabras individuales, frases o incluso caracteres, dependiendo del nivel de granularidad que se desee. La tokenización es un paso fundamental en el preprocesamiento de texto en NLP.\n",
    "\n",
    "> \"Tokenizar oraciones es pasar de un único string de texto a una lista de strings de oraciones\"\n",
    "\n",
    "En el caso de la biblioteca NLTK (Natural Language Toolkit) de Python, puedes utilizar la función word_tokenize para tokenizar un texto en palabras. Aquí tienes un ejemplo:\n",
    "\n",
    "Primero, asegúrate de tener instalada la biblioteca NLTK. Puedes instalarla con el siguiente comando:\n",
    "\n",
    "```bash\n",
    "pip install nltk\n",
    "```\n",
    "\n",
    "Tenemos dos maneras de tokenizar:\n",
    "1. Por palabra (word_tokenize)\n",
    "2. Por oración (sent_tokenize)"
   ]
  },
  {
   "cell_type": "code",
   "execution_count": 1,
   "id": "3b5c583e",
   "metadata": {},
   "outputs": [
    {
     "name": "stderr",
     "output_type": "stream",
     "text": [
      "[nltk_data] Downloading package punkt to\n",
      "[nltk_data]     C:\\Users\\USURIO\\AppData\\Roaming\\nltk_data...\n",
      "[nltk_data]   Package punkt is already up-to-date!\n"
     ]
    }
   ],
   "source": [
    "import nltk\n",
    "nltk.download('punkt')  # Descargar el modelo de tokenización\n",
    "\n",
    "from nltk.tokenize import word_tokenize\n",
    "from nltk.tokenize import sent_tokenize\n",
    "\n",
    "# Texto de ejemplo\n",
    "texto = \"La tokenización es importante en NLP. NLTK facilita este proceso. ¿Estamos listos para esto?\"\n",
    "\n",
    "# Tokenizar el texto en palabras\n",
    "palabras = word_tokenize(texto)\n",
    "\n",
    "# Tokenizar el texto en oraciones\n",
    "oraciones = sent_tokenize(texto)"
   ]
  },
  {
   "cell_type": "markdown",
   "id": "13ab552b",
   "metadata": {},
   "source": [
    "Este código importa la función word_tokenize de NLTK, descarga el modelo de tokenización necesario y luego tokeniza el texto de ejemplo en palabras. La salida sería una lista de palabras:\n",
    "\n",
    "Cada palabra en el texto se convierte en un elemento de la lista. Este paso de tokenización es esencial antes de realizar análisis de texto más avanzados en NLP."
   ]
  },
  {
   "cell_type": "code",
   "execution_count": 2,
   "id": "870beb38",
   "metadata": {},
   "outputs": [
    {
     "name": "stdout",
     "output_type": "stream",
     "text": [
      "La tokenización es importante en NLP. NLTK facilita este proceso. ¿Estamos listos para esto?\n"
     ]
    }
   ],
   "source": [
    "print(texto)"
   ]
  },
  {
   "cell_type": "code",
   "execution_count": 3,
   "id": "5b05b8f3",
   "metadata": {},
   "outputs": [
    {
     "name": "stdout",
     "output_type": "stream",
     "text": [
      "['La', 'tokenización', 'es', 'importante', 'en', 'NLP', '.', 'NLTK', 'facilita', 'este', 'proceso', '.', '¿Estamos', 'listos', 'para', 'esto', '?']\n"
     ]
    }
   ],
   "source": [
    "print(palabras)"
   ]
  },
  {
   "cell_type": "code",
   "execution_count": 4,
   "id": "8363db96",
   "metadata": {},
   "outputs": [
    {
     "name": "stdout",
     "output_type": "stream",
     "text": [
      "Oración 1: La tokenización es importante en NLP.\n",
      "Oración 2: NLTK facilita este proceso.\n",
      "Oración 3: ¿Estamos listos para esto?\n"
     ]
    }
   ],
   "source": [
    "# Imprimir las oraciones resultantes\n",
    "for i, oracion in enumerate(oraciones, 1):\n",
    "    print(f\"Oración {i}: {oracion}\")"
   ]
  }
 ],
 "metadata": {
  "kernelspec": {
   "display_name": "Python 3 (ipykernel)",
   "language": "python",
   "name": "python3"
  },
  "language_info": {
   "codemirror_mode": {
    "name": "ipython",
    "version": 3
   },
   "file_extension": ".py",
   "mimetype": "text/x-python",
   "name": "python",
   "nbconvert_exporter": "python",
   "pygments_lexer": "ipython3",
   "version": "3.11.4"
  }
 },
 "nbformat": 4,
 "nbformat_minor": 5
}
