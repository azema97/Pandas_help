{
 "cells": [
  {
   "cell_type": "markdown",
   "id": "aac5635b",
   "metadata": {},
   "source": [
    "# 📗 Lemmatizing\n",
    "\n",
    "La lematización es un proceso más sofisticado que busca reducir las palabras a su forma base, pero asegurándose de que la forma base resultante sea una palabra real que exista en el idioma. Para lograr esto, la lematización utiliza un diccionario o un conjunto de reglas gramaticales para realizar la reducción.\n",
    "\n",
    "A diferencia de la derivación (stemming), la lematización tiene en cuenta la estructura morfológica de las palabras y devuelve palabras válidas del idioma.\n",
    "\n",
    "> \"La lematización en el procesamiento del lenguaje natural (NLP) **es el proceso de reducir las palabras a su forma base, conocida como lema**\"\n",
    "\n",
    "Ejemplo:\n",
    "- Palabra original: \"Corriendo\"\n",
    "- Forma base (Lema): \"Correr\"\n",
    "\n",
    "La biblioteca NLTK proporciona el lematizador `WordNetLemmatizer` que se basa en WordNet, una base de datos léxica del inglés. Aquí tienes un ejemplo de cómo realizar la lematización utilizando `WordNetLemmatizer` en NLTK:"
   ]
  },
  {
   "cell_type": "code",
   "execution_count": 1,
   "id": "1c85a008",
   "metadata": {},
   "outputs": [],
   "source": [
    "import nltk\n",
    "from nltk.stem import WordNetLemmatizer\n",
    "from nltk.tokenize import word_tokenize"
   ]
  },
  {
   "cell_type": "code",
   "execution_count": 2,
   "id": "82c7898a",
   "metadata": {},
   "outputs": [
    {
     "name": "stderr",
     "output_type": "stream",
     "text": [
      "[nltk_data] Downloading package punkt to\n",
      "[nltk_data]     C:\\Users\\USURIO\\AppData\\Roaming\\nltk_data...\n",
      "[nltk_data]   Package punkt is already up-to-date!\n",
      "[nltk_data] Downloading package wordnet to\n",
      "[nltk_data]     C:\\Users\\USURIO\\AppData\\Roaming\\nltk_data...\n"
     ]
    },
    {
     "data": {
      "text/plain": [
       "True"
      ]
     },
     "execution_count": 2,
     "metadata": {},
     "output_type": "execute_result"
    }
   ],
   "source": [
    "# Descargar recursos necesarios\n",
    "nltk.download('punkt')\n",
    "nltk.download('wordnet')"
   ]
  },
  {
   "cell_type": "code",
   "execution_count": 3,
   "id": "9b0c2d36",
   "metadata": {},
   "outputs": [],
   "source": [
    "# Crear un objeto WordNetLemmatizer\n",
    "lemmatizer = WordNetLemmatizer()"
   ]
  },
  {
   "cell_type": "code",
   "execution_count": 4,
   "id": "56414859",
   "metadata": {},
   "outputs": [],
   "source": [
    "# Ejemplo de lematización\n",
    "palabras = [\"jumps\", \"jumping\", \"jumped\", \"better\", \"best\"]"
   ]
  },
  {
   "cell_type": "code",
   "execution_count": 5,
   "id": "ee8e2b6a",
   "metadata": {},
   "outputs": [
    {
     "name": "stdout",
     "output_type": "stream",
     "text": [
      "jumps: jump\n",
      "jumping: jump\n",
      "jumped: jump\n",
      "better: better\n",
      "best: best\n"
     ]
    }
   ],
   "source": [
    "for palabra in palabras:\n",
    "    lema = lemmatizer.lemmatize(palabra, pos='v')  # 'v' indica que la palabra es un verbo\n",
    "    print(f\"{palabra}: {lema}\")"
   ]
  },
  {
   "cell_type": "code",
   "execution_count": null,
   "id": "bf849a80",
   "metadata": {},
   "outputs": [],
   "source": []
  }
 ],
 "metadata": {
  "kernelspec": {
   "display_name": "Python 3 (ipykernel)",
   "language": "python",
   "name": "python3"
  },
  "language_info": {
   "codemirror_mode": {
    "name": "ipython",
    "version": 3
   },
   "file_extension": ".py",
   "mimetype": "text/x-python",
   "name": "python",
   "nbconvert_exporter": "python",
   "pygments_lexer": "ipython3",
   "version": "3.11.4"
  }
 },
 "nbformat": 4,
 "nbformat_minor": 5
}
