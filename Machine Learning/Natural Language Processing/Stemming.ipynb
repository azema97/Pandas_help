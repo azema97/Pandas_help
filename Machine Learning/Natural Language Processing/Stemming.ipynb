{
 "cells": [
  {
   "cell_type": "markdown",
   "id": "9f8b2c9a",
   "metadata": {},
   "source": [
    "# 📗 Stemming\n",
    "\n",
    "En el procesamiento del lenguaje natural (NLP), **la derivación (stemming) es el proceso de reducir las palabras a su raíz o forma base, eliminando sufijos y prefijos**. El objetivo es reducir las palabras relacionadas a una forma común, lo que facilita la comparación y análisis de textos. La biblioteca NLTK proporciona el módulo stem que incluye varios algoritmos de derivación, y uno de ellos es el algoritmo de Porter.\n",
    "\n",
    "Aquí tienes un ejemplo de cómo realizar la derivación utilizando el algoritmo de Porter en NLTK:\n",
    "\n",
    "Primero, asegúrate de tener instalada la biblioteca NLTK. Puedes instalarla con el siguiente comando:\n",
    "```bash\n",
    "pip install nltk\n",
    "```"
   ]
  },
  {
   "cell_type": "code",
   "execution_count": 1,
   "id": "c944d0f6",
   "metadata": {},
   "outputs": [
    {
     "name": "stderr",
     "output_type": "stream",
     "text": [
      "[nltk_data] Downloading package punkt to\n",
      "[nltk_data]     C:\\Users\\USURIO\\AppData\\Roaming\\nltk_data...\n",
      "[nltk_data]   Package punkt is already up-to-date!\n"
     ]
    },
    {
     "data": {
      "text/plain": [
       "True"
      ]
     },
     "execution_count": 1,
     "metadata": {},
     "output_type": "execute_result"
    }
   ],
   "source": [
    "import nltk\n",
    "from nltk.stem import PorterStemmer\n",
    "\n",
    "# Descargar recursos necesarios\n",
    "nltk.download('punkt')"
   ]
  },
  {
   "cell_type": "code",
   "execution_count": 2,
   "id": "51d4365d",
   "metadata": {},
   "outputs": [],
   "source": [
    "# Crear un objeto de PorterStemmer\n",
    "stemmer = PorterStemmer()"
   ]
  },
  {
   "cell_type": "code",
   "execution_count": 3,
   "id": "8eeaf99e",
   "metadata": {},
   "outputs": [],
   "source": [
    "# Ejemplo de derivación (stemming)\n",
    "palabras = [\"play\", \"played\", \"player\"]"
   ]
  },
  {
   "cell_type": "code",
   "execution_count": 4,
   "id": "31e73114",
   "metadata": {},
   "outputs": [
    {
     "name": "stdout",
     "output_type": "stream",
     "text": [
      "play: play\n",
      "played: play\n",
      "player: player\n"
     ]
    }
   ],
   "source": [
    "for palabra in palabras:\n",
    "    raiz = stemmer.stem(palabra)\n",
    "    print(f\"{palabra}: {raiz}\")"
   ]
  },
  {
   "cell_type": "code",
   "execution_count": null,
   "id": "ed7c6cd5",
   "metadata": {},
   "outputs": [],
   "source": []
  }
 ],
 "metadata": {
  "kernelspec": {
   "display_name": "Python 3 (ipykernel)",
   "language": "python",
   "name": "python3"
  },
  "language_info": {
   "codemirror_mode": {
    "name": "ipython",
    "version": 3
   },
   "file_extension": ".py",
   "mimetype": "text/x-python",
   "name": "python",
   "nbconvert_exporter": "python",
   "pygments_lexer": "ipython3",
   "version": "3.11.4"
  }
 },
 "nbformat": 4,
 "nbformat_minor": 5
}
