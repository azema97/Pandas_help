{
 "cells": [
  {
   "cell_type": "markdown",
   "id": "fb8f49b2",
   "metadata": {},
   "source": [
    "# 📙 Inverse Document Frequency\n",
    "\n",
    "La Inverse Document Frequency (IDF) es una medida utilizada en procesamiento del lenguaje natural (NLP) que evalúa la importancia de una palabra en un conjunto de documentos. La idea detrás de la IDF es penalizar las palabras que son muy comunes en el conjunto de documentos, ya que tienden a proporcionar menos información única y distintiva sobre el contenido del documento.\n",
    "\n",
    "La fórmula para calcular la IDF de una palabra \\(w\\) en un conjunto de documentos es la siguiente:\n",
    "\n",
    "$$\\text{IDF}(w) = \\log\\left(\\frac{N}{\\text{df}(w) + 1}\\right)$$\n",
    "\n",
    "donde:\n",
    "- $N$ es el número total de documentos en el conjunto.\n",
    "- $\\text{df}(w)$ es el número de documentos que contienen la palabra $w$.\n",
    "\n",
    "La función $\\log$ se utiliza para suavizar la escala de la IDF y evitar que valores extremos dominen la contribución."
   ]
  },
  {
   "cell_type": "code",
   "execution_count": 1,
   "id": "5f0a4b38",
   "metadata": {},
   "outputs": [
    {
     "name": "stderr",
     "output_type": "stream",
     "text": [
      "[nltk_data] Downloading package punkt to\n",
      "[nltk_data]     C:\\Users\\USURIO\\AppData\\Roaming\\nltk_data...\n",
      "[nltk_data]   Package punkt is already up-to-date!\n"
     ]
    },
    {
     "data": {
      "text/plain": [
       "True"
      ]
     },
     "execution_count": 1,
     "metadata": {},
     "output_type": "execute_result"
    }
   ],
   "source": [
    "import nltk\n",
    "from sklearn.feature_extraction.text import TfidfVectorizer\n",
    "\n",
    "# Descargar recursos necesarios de NLTK\n",
    "nltk.download('punkt')"
   ]
  },
  {
   "cell_type": "code",
   "execution_count": 2,
   "id": "85fabcaa",
   "metadata": {},
   "outputs": [],
   "source": [
    "# Documentos de ejemplo\n",
    "documentos = [\n",
    "    \"La vectorización en NLP es importante para representar texto numéricamente.\",\n",
    "    \"Bag of Words es una técnica común de vectorización en procesamiento del lenguaje natural.\",\n",
    "    \"Inverse Document Frequency (IDF) mide la importancia de una palabra en un conjunto de documentos.\"\n",
    "]"
   ]
  },
  {
   "cell_type": "code",
   "execution_count": 3,
   "id": "e862d56d",
   "metadata": {},
   "outputs": [],
   "source": [
    "# Tokenizar los documentos\n",
    "tokens = [nltk.word_tokenize(doc) for doc in documentos]"
   ]
  },
  {
   "cell_type": "code",
   "execution_count": 4,
   "id": "3ca82ebe",
   "metadata": {},
   "outputs": [],
   "source": [
    "# Calcular IDF utilizando TfidfVectorizer\n",
    "vectorizer = TfidfVectorizer()\n",
    "tfidf_matrix = vectorizer.fit_transform([\" \".join(doc) for doc in tokens])"
   ]
  },
  {
   "cell_type": "code",
   "execution_count": 5,
   "id": "18abe397",
   "metadata": {},
   "outputs": [],
   "source": [
    "# Obtener el vocabulario y las características\n",
    "vocabulario = vectorizer.get_feature_names_out()\n",
    "idf_valores = vectorizer.idf_"
   ]
  },
  {
   "cell_type": "code",
   "execution_count": 6,
   "id": "d8dd54d3",
   "metadata": {},
   "outputs": [
    {
     "name": "stdout",
     "output_type": "stream",
     "text": [
      "Vocabulario:\n",
      "['bag' 'común' 'conjunto' 'de' 'del' 'document' 'documentos' 'en' 'es'\n",
      " 'frequency' 'idf' 'importancia' 'importante' 'inverse' 'la' 'lenguaje'\n",
      " 'mide' 'natural' 'nlp' 'numéricamente' 'of' 'palabra' 'para'\n",
      " 'procesamiento' 'representar' 'texto' 'técnica' 'un' 'una'\n",
      " 'vectorización' 'words']\n",
      "\n",
      "IDF Valores:\n",
      "[1.69314718 1.69314718 1.69314718 1.28768207 1.69314718 1.69314718\n",
      " 1.69314718 1.         1.28768207 1.69314718 1.69314718 1.69314718\n",
      " 1.69314718 1.69314718 1.28768207 1.69314718 1.69314718 1.69314718\n",
      " 1.69314718 1.69314718 1.69314718 1.69314718 1.69314718 1.69314718\n",
      " 1.69314718 1.69314718 1.69314718 1.69314718 1.28768207 1.28768207\n",
      " 1.69314718]\n"
     ]
    }
   ],
   "source": [
    "# Imprimir el resultado\n",
    "print(\"Vocabulario:\")\n",
    "print(vocabulario)\n",
    "print(\"\\nIDF Valores:\")\n",
    "print(idf_valores)"
   ]
  },
  {
   "cell_type": "code",
   "execution_count": null,
   "id": "584fde33",
   "metadata": {},
   "outputs": [],
   "source": []
  }
 ],
 "metadata": {
  "kernelspec": {
   "display_name": "Python 3 (ipykernel)",
   "language": "python",
   "name": "python3"
  },
  "language_info": {
   "codemirror_mode": {
    "name": "ipython",
    "version": 3
   },
   "file_extension": ".py",
   "mimetype": "text/x-python",
   "name": "python",
   "nbconvert_exporter": "python",
   "pygments_lexer": "ipython3",
   "version": "3.11.4"
  }
 },
 "nbformat": 4,
 "nbformat_minor": 5
}
