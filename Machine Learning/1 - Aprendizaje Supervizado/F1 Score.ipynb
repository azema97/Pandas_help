{
 "cells": [
  {
   "cell_type": "markdown",
   "id": "401b7e20",
   "metadata": {},
   "source": [
    "# F1 Score\n",
    "\n",
    "El F1 score es una **métrica que combina la precisión (precision) y la sensibilidad (recall) en una única medida**, proporcionando así una evaluación más equilibrada del rendimiento de un modelo de clasificación. Esta métrica es especialmente útil cuando hay un desequilibrio entre las clases o cuando tanto la precisión como la sensibilidad son importantes.\n",
    "\n",
    "La fórmula del F1 score es la siguiente:\n",
    "\n",
    "$$F1 = \\frac{2 \\times \\text{precision} \\times \\text{recall}}{\\text{precision} + \\text{recall}}$$\n",
    "\n",
    "donde:\n",
    "- **Precision (precisión)** se define como el número de verdaderos positivos dividido por la suma de verdaderos positivos y falsos positivos. Representa la proporción de instancias positivas predichas correctamente entre todas las instancias predichas como positivas.\n",
    "- **Recall (sensibilidad)** se define como el número de verdaderos positivos dividido por la suma de verdaderos positivos y falsos negativos. Representa la proporción de instancias positivas que fueron correctamente identificadas entre todas las instancias que son realmente positivas.\n",
    "\n",
    "El F1 score alcanza su valor máximo de 1 cuando tanto la precisión como la sensibilidad son 100%, lo cual indica un rendimiento perfecto del modelo en términos de clasificación.\n",
    "\n",
    "En Python, la biblioteca scikit-learn proporciona la función `f1_score` para calcular el F1 score. Aquí tienes un ejemplo sencillo:"
   ]
  },
  {
   "cell_type": "code",
   "execution_count": 1,
   "id": "9a787869",
   "metadata": {},
   "outputs": [
    {
     "name": "stdout",
     "output_type": "stream",
     "text": [
      "F1 Score: 72.73%\n"
     ]
    }
   ],
   "source": [
    "from sklearn.metrics import f1_score\n",
    "\n",
    "# Ejemplo de etiquetas reales y predichas\n",
    "y_real = [1, 0, 1, 1, 0, 1, 0, 1]\n",
    "y_pred = [1, 0, 1, 1, 1, 0, 1, 1]\n",
    "\n",
    "# Calcular el F1 score\n",
    "f1 = f1_score(y_real, y_pred)\n",
    "\n",
    "# Imprimir el resultado\n",
    "print(f\"F1 Score: {f1 * 100:.2f}%\")"
   ]
  },
  {
   "cell_type": "code",
   "execution_count": null,
   "id": "7a9a4a1d",
   "metadata": {},
   "outputs": [],
   "source": []
  }
 ],
 "metadata": {
  "kernelspec": {
   "display_name": "Python 3 (ipykernel)",
   "language": "python",
   "name": "python3"
  },
  "language_info": {
   "codemirror_mode": {
    "name": "ipython",
    "version": 3
   },
   "file_extension": ".py",
   "mimetype": "text/x-python",
   "name": "python",
   "nbconvert_exporter": "python",
   "pygments_lexer": "ipython3",
   "version": "3.11.4"
  }
 },
 "nbformat": 4,
 "nbformat_minor": 5
}
