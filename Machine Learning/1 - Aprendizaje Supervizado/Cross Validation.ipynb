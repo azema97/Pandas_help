{
 "cells": [
  {
   "cell_type": "markdown",
   "id": "f40e6e38",
   "metadata": {},
   "source": [
    "# 🔀 Cross Validation\n",
    "\n",
    "La validación cruzada, o cross-validation en inglés, **es una técnica utilizada para evaluar el rendimiento de un modelo de machine learning**. \n",
    "\n",
    "Consiste en **dividir el conjunto de datos en subconjuntos más pequeños**, llamados \"folds\", **y realizar múltiples iteraciones de entrenamiento y evaluación del modelo** en diferentes combinaciones de estos folds.\n",
    "\n",
    "El objetivo principal de la validación cruzada es obtener una estimación más precisa del rendimiento del modelo al entrenarlo y evaluarlo en diferentes subconjuntos de datos. Esto ayuda a detectar problemas de sobreajuste o subajuste y proporciona una evaluación más robusta del modelo.\n",
    "\n",
    "Aquí tienes un ejemplo simple de cómo realizar validación cruzada en Python utilizando la librería `scikit-learn`:"
   ]
  },
  {
   "cell_type": "code",
   "execution_count": 1,
   "id": "c713e1ce",
   "metadata": {},
   "outputs": [],
   "source": [
    "from sklearn.datasets import load_iris\n",
    "from sklearn.model_selection import cross_val_score\n",
    "from sklearn.svm import SVC\n",
    "import numpy as np"
   ]
  },
  {
   "cell_type": "code",
   "execution_count": 2,
   "id": "e20332a9",
   "metadata": {},
   "outputs": [],
   "source": [
    "# Cargar el conjunto de datos Iris\n",
    "iris = load_iris()\n",
    "X = iris.data\n",
    "y = iris.target"
   ]
  },
  {
   "cell_type": "code",
   "execution_count": 3,
   "id": "5e287fc1",
   "metadata": {},
   "outputs": [],
   "source": [
    "# Creamos un modelo de SVM (Support Vector Machine)\n",
    "model = SVC()"
   ]
  },
  {
   "cell_type": "code",
   "execution_count": 4,
   "id": "cb41264f",
   "metadata": {},
   "outputs": [
    {
     "name": "stdout",
     "output_type": "stream",
     "text": [
      "Accuracy Scores: [0.9667 0.9667 0.9667 0.9333 1.    ]\n",
      "Mean Accuracy: 0.9666666666666666\n"
     ]
    }
   ],
   "source": [
    "# Realizamos la validación cruzada con 5 folds\n",
    "# Utilizamos la métrica de accuracy para evaluar el rendimiento\n",
    "scores = cross_val_score(model, X, y, cv=5, scoring='accuracy')\n",
    "\n",
    "# Calculamos el promedio de los scores obtenidos\n",
    "mean_accuracy = scores.mean()\n",
    "\n",
    "print(\"Accuracy Scores:\", np.round(scores,4) )\n",
    "print(\"Mean Accuracy:\", mean_accuracy)"
   ]
  },
  {
   "cell_type": "markdown",
   "id": "6df818bb",
   "metadata": {},
   "source": [
    "En este ejemplo, cargamos el conjunto de datos Iris y creamos un modelo de clasificación SVM (_Support Vector Machine_). Luego, utilizamos la validación cruzada con 5 folds para evaluar el rendimiento del modelo. La métrica de evaluación que utilizamos es la precisión (_accuracy_). Finalmente, calculamos el promedio de las puntuaciones de precisión obtenidas en cada fold."
   ]
  },
  {
   "cell_type": "code",
   "execution_count": null,
   "id": "afb53d4b",
   "metadata": {},
   "outputs": [],
   "source": []
  }
 ],
 "metadata": {
  "kernelspec": {
   "display_name": "Python 3 (ipykernel)",
   "language": "python",
   "name": "python3"
  },
  "language_info": {
   "codemirror_mode": {
    "name": "ipython",
    "version": 3
   },
   "file_extension": ".py",
   "mimetype": "text/x-python",
   "name": "python",
   "nbconvert_exporter": "python",
   "pygments_lexer": "ipython3",
   "version": "3.11.4"
  }
 },
 "nbformat": 4,
 "nbformat_minor": 5
}
