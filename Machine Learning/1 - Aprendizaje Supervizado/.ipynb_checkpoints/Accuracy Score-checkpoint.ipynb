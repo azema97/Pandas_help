{
 "cells": [
  {
   "cell_type": "markdown",
   "id": "1c742380",
   "metadata": {},
   "source": [
    "# Accuracy Score\n",
    "\n",
    "El accuracy score (puntuación de precisión) es una métrica comúnmente utilizada para evaluar el rendimiento de un modelo de clasificación. Esta métrica mide la proporción de instancias clasificadas correctamente sobre el total de instancias. En otras palabras, es la cantidad de predicciones correctas dividida por el número total de predicciones.\n",
    "\n",
    "La fórmula para el accuracy score es:\n",
    "\n",
    "$$\\text{Accuracy} = \\frac{\\text{Número de predicciones correctas}}{\\text{Número total de predicciones}}$$\n",
    "\n",
    "El resultado se expresa como un porcentaje, y un mayor accuracy score indica un mejor rendimiento del modelo en términos de clasificación correcta.\n",
    "\n",
    "Es importante tener en cuenta que el accuracy score puede no ser la métrica más adecuada en todos los casos, especialmente cuando las clases están desbalanceadas. En situaciones donde hay una gran diferencia en el número de instancias entre las clases, el modelo puede tener un alto accuracy simplemente prediciendo siempre la clase mayoritaria. En tales casos, otras métricas como la sensibilidad, especificidad o el área bajo la curva ROC pueden proporcionar una evaluación más completa del rendimiento del modelo."
   ]
  },
  {
   "cell_type": "code",
   "execution_count": 1,
   "id": "7d14e0c5",
   "metadata": {},
   "outputs": [
    {
     "name": "stdout",
     "output_type": "stream",
     "text": [
      "Accuracy Score: 62.50%\n"
     ]
    }
   ],
   "source": [
    "from sklearn.metrics import accuracy_score\n",
    "\n",
    "# Ejemplo de etiquetas reales y predichas\n",
    "y_real = [1, 0, 1, 1, 0, 1, 0, 1]\n",
    "y_pred = [1, 0, 1, 1, 1, 0, 1, 1]\n",
    "\n",
    "# Calcular el accuracy score\n",
    "accuracy = accuracy_score(y_real, y_pred)\n",
    "\n",
    "# Imprimir el resultado\n",
    "print(f\"Accuracy Score: {accuracy * 100:.2f}%\")"
   ]
  },
  {
   "cell_type": "code",
   "execution_count": null,
   "id": "8ad601f5",
   "metadata": {},
   "outputs": [],
   "source": []
  }
 ],
 "metadata": {
  "kernelspec": {
   "display_name": "Python 3 (ipykernel)",
   "language": "python",
   "name": "python3"
  },
  "language_info": {
   "codemirror_mode": {
    "name": "ipython",
    "version": 3
   },
   "file_extension": ".py",
   "mimetype": "text/x-python",
   "name": "python",
   "nbconvert_exporter": "python",
   "pygments_lexer": "ipython3",
   "version": "3.11.4"
  }
 },
 "nbformat": 4,
 "nbformat_minor": 5
}
