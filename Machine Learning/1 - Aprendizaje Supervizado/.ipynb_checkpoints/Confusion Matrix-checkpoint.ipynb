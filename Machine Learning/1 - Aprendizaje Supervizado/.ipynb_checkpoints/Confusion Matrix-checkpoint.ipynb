{
 "cells": [
  {
   "cell_type": "markdown",
   "id": "b2887ec2",
   "metadata": {},
   "source": [
    "# Confusion Matrix\n",
    "\n",
    "Una matriz de confusión es una herramienta que se utiliza en estadísticas y aprendizaje automático para evaluar el rendimiento de un modelo de clasificación. Esta matriz muestra la cantidad de verdaderos positivos (TP), verdaderos negativos (TN), falsos positivos (FP) y falsos negativos (FN) de un modelo en particular.\n",
    "\n",
    "Aquí están los términos clave asociados con una matriz de confusión:\n",
    "\n",
    "1. **Verdaderos Positivos (TP):** El modelo predijo correctamente que un ejemplo pertenece a la clase positiva.\n",
    "\n",
    "2. **Verdaderos Negativos (TN):** El modelo predijo correctamente que un ejemplo pertenece a la clase negativa.\n",
    "\n",
    "3. **Falsos Positivos (FP):** El modelo predijo incorrectamente que un ejemplo pertenece a la clase positiva cuando en realidad no lo hace. También se conoce como error de Tipo I.\n",
    "\n",
    "4. **Falsos Negativos (FN):** El modelo predijo incorrectamente que un ejemplo pertenece a la clase negativa cuando en realidad pertenece a la clase positiva. También se conoce como error de Tipo II.\n",
    "\n",
    "La matriz de confusión es una tabla cuadrada con filas y columnas que representan las clases reales y predichas. Puede tener el siguiente formato:\n",
    "\n",
    "```\n",
    "              Clase Real Positiva    Clase Real Negativa\n",
    "Clase Predicha  TP                    FP\n",
    "                FN                    TN\n",
    "```\n",
    "\n",
    "Con esta matriz, se pueden calcular varias métricas de evaluación del rendimiento del modelo, como la precisión (accuracy), la sensibilidad (recall), la especificidad (specificity) y la precisión (precision), entre otras. Estas métricas proporcionan información detallada sobre cómo el modelo está manejando las diferentes clases y tipos de errores."
   ]
  },
  {
   "cell_type": "code",
   "execution_count": 1,
   "id": "ede4fecd",
   "metadata": {},
   "outputs": [],
   "source": [
    "# Importa las bibliotecas necesarias\n",
    "import pandas as pd\n",
    "from sklearn.metrics import confusion_matrix\n",
    "import seaborn as sns\n",
    "import matplotlib.pyplot as plt"
   ]
  },
  {
   "cell_type": "code",
   "execution_count": 2,
   "id": "16370e60",
   "metadata": {},
   "outputs": [
    {
     "data": {
      "text/html": [
       "<div>\n",
       "<style scoped>\n",
       "    .dataframe tbody tr th:only-of-type {\n",
       "        vertical-align: middle;\n",
       "    }\n",
       "\n",
       "    .dataframe tbody tr th {\n",
       "        vertical-align: top;\n",
       "    }\n",
       "\n",
       "    .dataframe thead th {\n",
       "        text-align: right;\n",
       "    }\n",
       "</style>\n",
       "<table border=\"1\" class=\"dataframe\">\n",
       "  <thead>\n",
       "    <tr style=\"text-align: right;\">\n",
       "      <th></th>\n",
       "      <th>Actual</th>\n",
       "      <th>Predicted</th>\n",
       "    </tr>\n",
       "  </thead>\n",
       "  <tbody>\n",
       "    <tr>\n",
       "      <th>0</th>\n",
       "      <td>1</td>\n",
       "      <td>1</td>\n",
       "    </tr>\n",
       "    <tr>\n",
       "      <th>1</th>\n",
       "      <td>0</td>\n",
       "      <td>1</td>\n",
       "    </tr>\n",
       "    <tr>\n",
       "      <th>2</th>\n",
       "      <td>1</td>\n",
       "      <td>1</td>\n",
       "    </tr>\n",
       "    <tr>\n",
       "      <th>3</th>\n",
       "      <td>1</td>\n",
       "      <td>0</td>\n",
       "    </tr>\n",
       "    <tr>\n",
       "      <th>4</th>\n",
       "      <td>0</td>\n",
       "      <td>0</td>\n",
       "    </tr>\n",
       "    <tr>\n",
       "      <th>5</th>\n",
       "      <td>1</td>\n",
       "      <td>1</td>\n",
       "    </tr>\n",
       "    <tr>\n",
       "      <th>6</th>\n",
       "      <td>0</td>\n",
       "      <td>1</td>\n",
       "    </tr>\n",
       "    <tr>\n",
       "      <th>7</th>\n",
       "      <td>0</td>\n",
       "      <td>0</td>\n",
       "    </tr>\n",
       "    <tr>\n",
       "      <th>8</th>\n",
       "      <td>1</td>\n",
       "      <td>1</td>\n",
       "    </tr>\n",
       "    <tr>\n",
       "      <th>9</th>\n",
       "      <td>0</td>\n",
       "      <td>1</td>\n",
       "    </tr>\n",
       "  </tbody>\n",
       "</table>\n",
       "</div>"
      ],
      "text/plain": [
       "   Actual  Predicted\n",
       "0       1          1\n",
       "1       0          1\n",
       "2       1          1\n",
       "3       1          0\n",
       "4       0          0\n",
       "5       1          1\n",
       "6       0          1\n",
       "7       0          0\n",
       "8       1          1\n",
       "9       0          1"
      ]
     },
     "execution_count": 2,
     "metadata": {},
     "output_type": "execute_result"
    }
   ],
   "source": [
    "# Crea un DataFrame de ejemplo (reemplázalo con tu propio DataFrame)\n",
    "data = {\n",
    "    'Actual': [1, 0, 1, 1, 0, 1, 0, 0, 1, 0],\n",
    "    'Predicted': [1, 1, 1, 0, 0, 1, 1, 0, 1, 1]\n",
    "}\n",
    "\n",
    "df = pd.DataFrame(data)\n",
    "df"
   ]
  },
  {
   "cell_type": "code",
   "execution_count": 3,
   "id": "6b94e971",
   "metadata": {},
   "outputs": [
    {
     "data": {
      "text/plain": [
       "array([[2, 3],\n",
       "       [1, 4]], dtype=int64)"
      ]
     },
     "execution_count": 3,
     "metadata": {},
     "output_type": "execute_result"
    }
   ],
   "source": [
    "# Calcula la matriz de confusión\n",
    "conf_matrix = confusion_matrix(df['Actual'], df['Predicted'])\n",
    "conf_matrix"
   ]
  },
  {
   "cell_type": "code",
   "execution_count": 4,
   "id": "ccdab3d1",
   "metadata": {},
   "outputs": [
    {
     "data": {
      "image/png": "[encoded data removed]",
      "text/plain": [
       "<Figure size 600x600 with 2 Axes>"
      ]
     },
     "metadata": {},
     "output_type": "display_data"
    }
   ],
   "source": [
    "# Crea un mapa de calor usando seaborn\n",
    "plt.figure(figsize=(6, 6))\n",
    "sns.heatmap(conf_matrix, annot=True, fmt='d', cmap='Blues', \n",
    "            xticklabels=['Predicted 0', 'Predicted 1'], \n",
    "            yticklabels=['Actual 0', 'Actual 1'])\n",
    "plt.xlabel('Predicted')\n",
    "plt.ylabel('Actual')\n",
    "plt.title('Confusion Matrix')\n",
    "plt.show()"
   ]
  },
  {
   "cell_type": "code",
   "execution_count": null,
   "id": "e8b1f087",
   "metadata": {},
   "outputs": [],
   "source": []
  }
 ],
 "metadata": {
  "kernelspec": {
   "display_name": "Python 3 (ipykernel)",
   "language": "python",
   "name": "python3"
  },
  "language_info": {
   "codemirror_mode": {
    "name": "ipython",
    "version": 3
   },
   "file_extension": ".py",
   "mimetype": "text/x-python",
   "name": "python",
   "nbconvert_exporter": "python",
   "pygments_lexer": "ipython3",
   "version": "3.11.4"
  }
 },
 "nbformat": 4,
 "nbformat_minor": 5
}
