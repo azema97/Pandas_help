{
 "cells": [
  {
   "cell_type": "markdown",
   "id": "9964fc4b",
   "metadata": {},
   "source": [
    "# 💯 R2 Score\n",
    "\n",
    "El coeficiente de determinación, comúnmente conocido como R2 Score, **es una medida que indica qué tan bien se ajustan los valores observados a los valores predichos por un modelo de regresión**. \n",
    "\n",
    "Este valor varía entre 0 y 1, donde 1 indica un ajuste perfecto y 0 indica que el modelo no es mejor que simplemente predecir la media de los valores observados.\n",
    "\n",
    "Aquí tienes un ejemplo simple en Python utilizando la librería `scikit-learn`:"
   ]
  },
  {
   "cell_type": "code",
   "execution_count": 1,
   "id": "a3c99be1",
   "metadata": {},
   "outputs": [],
   "source": [
    "from sklearn.linear_model import LinearRegression\n",
    "from sklearn.metrics import r2_score\n",
    "import numpy as np"
   ]
  },
  {
   "cell_type": "code",
   "execution_count": 2,
   "id": "890fa01d",
   "metadata": {},
   "outputs": [],
   "source": [
    "# Datos de ejemplo\n",
    "x = np.array([1, 2, 3, 4, 5])\n",
    "y = np.array([2, 3, 4, 5, 6])"
   ]
  },
  {
   "cell_type": "code",
   "execution_count": 3,
   "id": "432f3968",
   "metadata": {},
   "outputs": [
    {
     "data": {
      "text/html": [
       "<style>#sk-container-id-1 {color: black;background-color: white;}#sk-container-id-1 pre{padding: 0;}#sk-container-id-1 div.sk-toggleable {background-color: white;}#sk-container-id-1 label.sk-toggleable__label {cursor: pointer;display: block;width: 100%;margin-bottom: 0;padding: 0.3em;box-sizing: border-box;text-align: center;}#sk-container-id-1 label.sk-toggleable__label-arrow:before {content: \"▸\";float: left;margin-right: 0.25em;color: #696969;}#sk-container-id-1 label.sk-toggleable__label-arrow:hover:before {color: black;}#sk-container-id-1 div.sk-estimator:hover label.sk-toggleable__label-arrow:before {color: black;}#sk-container-id-1 div.sk-toggleable__content {max-height: 0;max-width: 0;overflow: hidden;text-align: left;background-color: #f0f8ff;}#sk-container-id-1 div.sk-toggleable__content pre {margin: 0.2em;color: black;border-radius: 0.25em;background-color: #f0f8ff;}#sk-container-id-1 input.sk-toggleable__control:checked~div.sk-toggleable__content {max-height: 200px;max-width: 100%;overflow: auto;}#sk-container-id-1 input.sk-toggleable__control:checked~label.sk-toggleable__label-arrow:before {content: \"▾\";}#sk-container-id-1 div.sk-estimator input.sk-toggleable__control:checked~label.sk-toggleable__label {background-color: #d4ebff;}#sk-container-id-1 div.sk-label input.sk-toggleable__control:checked~label.sk-toggleable__label {background-color: #d4ebff;}#sk-container-id-1 input.sk-hidden--visually {border: 0;clip: rect(1px 1px 1px 1px);clip: rect(1px, 1px, 1px, 1px);height: 1px;margin: -1px;overflow: hidden;padding: 0;position: absolute;width: 1px;}#sk-container-id-1 div.sk-estimator {font-family: monospace;background-color: #f0f8ff;border: 1px dotted black;border-radius: 0.25em;box-sizing: border-box;margin-bottom: 0.5em;}#sk-container-id-1 div.sk-estimator:hover {background-color: #d4ebff;}#sk-container-id-1 div.sk-parallel-item::after {content: \"\";width: 100%;border-bottom: 1px solid gray;flex-grow: 1;}#sk-container-id-1 div.sk-label:hover label.sk-toggleable__label {background-color: #d4ebff;}#sk-container-id-1 div.sk-serial::before {content: \"\";position: absolute;border-left: 1px solid gray;box-sizing: border-box;top: 0;bottom: 0;left: 50%;z-index: 0;}#sk-container-id-1 div.sk-serial {display: flex;flex-direction: column;align-items: center;background-color: white;padding-right: 0.2em;padding-left: 0.2em;position: relative;}#sk-container-id-1 div.sk-item {position: relative;z-index: 1;}#sk-container-id-1 div.sk-parallel {display: flex;align-items: stretch;justify-content: center;background-color: white;position: relative;}#sk-container-id-1 div.sk-item::before, #sk-container-id-1 div.sk-parallel-item::before {content: \"\";position: absolute;border-left: 1px solid gray;box-sizing: border-box;top: 0;bottom: 0;left: 50%;z-index: -1;}#sk-container-id-1 div.sk-parallel-item {display: flex;flex-direction: column;z-index: 1;position: relative;background-color: white;}#sk-container-id-1 div.sk-parallel-item:first-child::after {align-self: flex-end;width: 50%;}#sk-container-id-1 div.sk-parallel-item:last-child::after {align-self: flex-start;width: 50%;}#sk-container-id-1 div.sk-parallel-item:only-child::after {width: 0;}#sk-container-id-1 div.sk-dashed-wrapped {border: 1px dashed gray;margin: 0 0.4em 0.5em 0.4em;box-sizing: border-box;padding-bottom: 0.4em;background-color: white;}#sk-container-id-1 div.sk-label label {font-family: monospace;font-weight: bold;display: inline-block;line-height: 1.2em;}#sk-container-id-1 div.sk-label-container {text-align: center;}#sk-container-id-1 div.sk-container {/* jupyter's `normalize.less` sets `[hidden] { display: none; }` but bootstrap.min.css set `[hidden] { display: none !important; }` so we also need the `!important` here to be able to override the default hidden behavior on the sphinx rendered scikit-learn.org. See: https://github.com/scikit-learn/scikit-learn/issues/21755 */display: inline-block !important;position: relative;}#sk-container-id-1 div.sk-text-repr-fallback {display: none;}</style><div id=\"sk-container-id-1\" class=\"sk-top-container\"><div class=\"sk-text-repr-fallback\"><pre>LinearRegression()</pre><b>In a Jupyter environment, please rerun this cell to show the HTML representation or trust the notebook. <br />On GitHub, the HTML representation is unable to render, please try loading this page with nbviewer.org.</b></div><div class=\"sk-container\" hidden><div class=\"sk-item\"><div class=\"sk-estimator sk-toggleable\"><input class=\"sk-toggleable__control sk-hidden--visually\" id=\"sk-estimator-id-1\" type=\"checkbox\" checked><label for=\"sk-estimator-id-1\" class=\"sk-toggleable__label sk-toggleable__label-arrow\">LinearRegression</label><div class=\"sk-toggleable__content\"><pre>LinearRegression()</pre></div></div></div></div></div>"
      ],
      "text/plain": [
       "LinearRegression()"
      ]
     },
     "execution_count": 3,
     "metadata": {},
     "output_type": "execute_result"
    }
   ],
   "source": [
    "# Ajuste del modelo de regresión lineal\n",
    "model = LinearRegression()\n",
    "model.fit(x.reshape(-1, 1), y)"
   ]
  },
  {
   "cell_type": "code",
   "execution_count": 4,
   "id": "259b4de0",
   "metadata": {},
   "outputs": [],
   "source": [
    "# Predicciones del modelo\n",
    "y_pred = model.predict(x.reshape(-1, 1))"
   ]
  },
  {
   "cell_type": "code",
   "execution_count": 5,
   "id": "11145e0c",
   "metadata": {},
   "outputs": [
    {
     "name": "stdout",
     "output_type": "stream",
     "text": [
      "R2 Score: 1.0\n"
     ]
    }
   ],
   "source": [
    "# Calculando el R2 Score\n",
    "r2 = r2_score(y, y_pred)\n",
    "print(\"R2 Score:\", r2)"
   ]
  },
  {
   "cell_type": "markdown",
   "id": "2a0e565a",
   "metadata": {},
   "source": [
    "Este código ajusta un modelo de regresión lineal a los datos `x` e `y`, luego predice los valores de `y` utilizando el modelo y calcula el R2 Score para evaluar qué tan bien se ajustan las predicciones del modelo a los datos observados."
   ]
  },
  {
   "cell_type": "markdown",
   "id": "0ab74684",
   "metadata": {},
   "source": [
    "---\n",
    "### ¿Como se calcula el coeficiente de determinación (R2 Score)?\n",
    "\n",
    "El coeficiente de determinación, también conocido como R2 Score, se calcula utilizando la siguiente fórmula:\n",
    "\n",
    "$ R^2 = 1 - \\frac{SS_{res}}{SS_{tot}} $\n",
    "\n",
    "Donde:\n",
    "\n",
    "- $SS_{res}$ es la suma de los cuadrados de las diferencias entre los valores observados y los valores predichos por el modelo.\n",
    "- $SS_{tot}$ es la suma de los cuadrados de las diferencias entre los valores observados y la media de los valores observados.\n",
    "\n",
    "Aquí tienes una explicación más detallada de cada término:\n",
    "\n",
    "- $SS_{res} = \\sum_{i} (y_i - \\hat{y}_i)^2$\n",
    "- $SS_{tot} = \\sum_{i} (y_i - \\bar{y})^2$\n",
    "\n",
    "Donde:\n",
    "- $y_i$ son los valores observados.\n",
    "- $\\hat{y}_i$ son los valores predichos por el modelo.\n",
    "- $\\bar{y}$ es la media de los valores observados.\n",
    "\n",
    "El valor de $R^2$ está entre 0 y 1. Un valor más cercano a 1 indica un mejor ajuste del modelo a los datos, mientras que un valor más cercano a 0 indica un ajuste deficiente del modelo.\n",
    "\n",
    "En resumen, el R2 Score mide la proporción de la varianza en la variable dependiente que es predecible a partir de la variable independiente(s) en el modelo de regresión."
   ]
  },
  {
   "cell_type": "code",
   "execution_count": null,
   "id": "247c1474",
   "metadata": {},
   "outputs": [],
   "source": []
  }
 ],
 "metadata": {
  "kernelspec": {
   "display_name": "Python 3 (ipykernel)",
   "language": "python",
   "name": "python3"
  },
  "language_info": {
   "codemirror_mode": {
    "name": "ipython",
    "version": 3
   },
   "file_extension": ".py",
   "mimetype": "text/x-python",
   "name": "python",
   "nbconvert_exporter": "python",
   "pygments_lexer": "ipython3",
   "version": "3.11.4"
  }
 },
 "nbformat": 4,
 "nbformat_minor": 5
}
