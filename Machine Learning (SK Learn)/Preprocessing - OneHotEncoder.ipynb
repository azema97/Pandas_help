{
 "cells": [
  {
   "cell_type": "markdown",
   "id": "9b35422e",
   "metadata": {},
   "source": [
    "# 🧪 Preprocesamiento con OneHotEncoder\n",
    "#### Datos categóricos nominales\n",
    "\n",
    "One-Hot Encoder es una técnica utilizada en aprendizaje automático para convertir variables categóricas, especialmente las de tipo nominal, en una representación numérica que sea adecuada para su uso en algoritmos de aprendizaje automático. Las variables categóricas de tipo nominal son aquellas que no tienen un orden inherente entre sus categorías, como colores, género o países.\n",
    "\n",
    "**La idea detrás del One-Hot Encoder es crear una nueva columna binaria (0 o 1) para cada categoría única en la variable categórica original**. Estas nuevas columnas binarias se llaman \"dummy variables\". Cada fila en el conjunto de datos tendrá un valor de 1 en la columna correspondiente a la categoría a la que pertenece y 0 en todas las demás columnas. Esto permite que los algoritmos de aprendizaje automático interpreten las categorías como características numéricas independientes."
   ]
  },
  {
   "cell_type": "code",
   "execution_count": 1,
   "id": "7301032c",
   "metadata": {},
   "outputs": [],
   "source": [
    "import pandas as pd\n",
    "from sklearn.preprocessing import OneHotEncoder"
   ]
  },
  {
   "cell_type": "code",
   "execution_count": 2,
   "id": "0ebb3620",
   "metadata": {},
   "outputs": [],
   "source": [
    "# Crear un DataFrame de ejemplo\n",
    "data = {'Color': ['Rojo', 'Verde', 'Azul', 'Rojo', 'Verde','Rojo']}\n",
    "df = pd.DataFrame(data)"
   ]
  },
  {
   "cell_type": "code",
   "execution_count": 3,
   "id": "b0496e43",
   "metadata": {},
   "outputs": [],
   "source": [
    "# Crear una instancia del OneHotEncoder\n",
    "encoder = OneHotEncoder(sparse_output=False)"
   ]
  },
  {
   "cell_type": "code",
   "execution_count": 4,
   "id": "f319f64e",
   "metadata": {},
   "outputs": [],
   "source": [
    "# Ajustar el encoder a los datos y transformar la columna 'Color'\n",
    "encoded_data = encoder.fit_transform(df[['Color']])"
   ]
  },
  {
   "cell_type": "code",
   "execution_count": 5,
   "id": "52930ac0",
   "metadata": {},
   "outputs": [],
   "source": [
    "# Crear un DataFrame con las nuevas columnas binarias\n",
    "encoded_df = pd.DataFrame(encoded_data, columns=encoder.get_feature_names_out(['Color']))"
   ]
  },
  {
   "cell_type": "code",
   "execution_count": 6,
   "id": "63ae7bc8",
   "metadata": {},
   "outputs": [
    {
     "data": {
      "text/html": [
       "<div>\n",
       "<style scoped>\n",
       "    .dataframe tbody tr th:only-of-type {\n",
       "        vertical-align: middle;\n",
       "    }\n",
       "\n",
       "    .dataframe tbody tr th {\n",
       "        vertical-align: top;\n",
       "    }\n",
       "\n",
       "    .dataframe thead th {\n",
       "        text-align: right;\n",
       "    }\n",
       "</style>\n",
       "<table border=\"1\" class=\"dataframe\">\n",
       "  <thead>\n",
       "    <tr style=\"text-align: right;\">\n",
       "      <th></th>\n",
       "      <th>Color_Azul</th>\n",
       "      <th>Color_Rojo</th>\n",
       "      <th>Color_Verde</th>\n",
       "    </tr>\n",
       "  </thead>\n",
       "  <tbody>\n",
       "    <tr>\n",
       "      <th>0</th>\n",
       "      <td>0</td>\n",
       "      <td>1</td>\n",
       "      <td>0</td>\n",
       "    </tr>\n",
       "    <tr>\n",
       "      <th>1</th>\n",
       "      <td>0</td>\n",
       "      <td>0</td>\n",
       "      <td>1</td>\n",
       "    </tr>\n",
       "    <tr>\n",
       "      <th>2</th>\n",
       "      <td>1</td>\n",
       "      <td>0</td>\n",
       "      <td>0</td>\n",
       "    </tr>\n",
       "    <tr>\n",
       "      <th>3</th>\n",
       "      <td>0</td>\n",
       "      <td>1</td>\n",
       "      <td>0</td>\n",
       "    </tr>\n",
       "    <tr>\n",
       "      <th>4</th>\n",
       "      <td>0</td>\n",
       "      <td>0</td>\n",
       "      <td>1</td>\n",
       "    </tr>\n",
       "    <tr>\n",
       "      <th>5</th>\n",
       "      <td>0</td>\n",
       "      <td>1</td>\n",
       "      <td>0</td>\n",
       "    </tr>\n",
       "  </tbody>\n",
       "</table>\n",
       "</div>"
      ],
      "text/plain": [
       "   Color_Azul  Color_Rojo  Color_Verde\n",
       "0           0           1            0\n",
       "1           0           0            1\n",
       "2           1           0            0\n",
       "3           0           1            0\n",
       "4           0           0            1\n",
       "5           0           1            0"
      ]
     },
     "execution_count": 6,
     "metadata": {},
     "output_type": "execute_result"
    }
   ],
   "source": [
    "# Mostrar el DataFrame resultante\n",
    "encoded_df = encoded_df.astype(int) # lo pase a int, el original es float\n",
    "encoded_df"
   ]
  }
 ],
 "metadata": {
  "kernelspec": {
   "display_name": "Python 3 (ipykernel)",
   "language": "python",
   "name": "python3"
  },
  "language_info": {
   "codemirror_mode": {
    "name": "ipython",
    "version": 3
   },
   "file_extension": ".py",
   "mimetype": "text/x-python",
   "name": "python",
   "nbconvert_exporter": "python",
   "pygments_lexer": "ipython3",
   "version": "3.11.4"
  }
 },
 "nbformat": 4,
 "nbformat_minor": 5
}
