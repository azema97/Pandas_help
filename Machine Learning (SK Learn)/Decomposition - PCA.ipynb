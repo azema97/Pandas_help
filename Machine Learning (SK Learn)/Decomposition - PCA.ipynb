{
 "cells": [
  {
   "cell_type": "markdown",
   "id": "f6b7a8e8",
   "metadata": {},
   "source": [
    "# Principal Component Analysis (PCA)\n",
    "\n",
    "El Análisis de Componentes Principales (PCA, por sus siglas en inglés, Principal Component Analysis) es una técnica estadística utilizada para reducir la dimensionalidad de un conjunto de datos, conservando al mismo tiempo la mayor cantidad posible de su variabilidad. En otras palabras, PCA transforma un conjunto de variables correlacionadas en un nuevo conjunto de variables no correlacionadas llamadas componentes principales.\n",
    "\n",
    "La idea detrás del PCA es encontrar un nuevo conjunto de ejes (llamados componentes principales) en el espacio de los datos originales, de manera que cuando los datos se proyectan en estos nuevos ejes, la varianza sea maximizada en el primer componente principal, luego en el segundo, y así sucesivamente. Esto permite reducir la cantidad de información necesaria para describir los datos, manteniendo la mayor cantidad posible de esa información.\n",
    "\n",
    "Los principales usos del PCA incluyen:\n",
    "\n",
    "1. **Reducción de Dimensionalidad:** PCA se utiliza para reducir el número de variables en un conjunto de datos, lo especialmente útil cuando se enfrentan conjuntos de datos con muchas características (variables). Al reducir la dimensionalidad, los datos se vuelven más fáciles de visualizar y analizar.\n",
    "\n",
    "2. **Análisis Exploratorio de Datos:** PCA ayuda a identificar patrones y relaciones en los datos. Puede revelar qué variables están correlacionadas entre sí y cómo se agrupan los datos en diferentes direcciones.\n",
    "\n",
    "3. **Eliminación de la Colinealidad:** En conjuntos de datos con variables altamente correlacionadas, PCA puede ayudar a reducir esta colinealidad al transformar estas variables en componentes no correlacionados.\n",
    "\n",
    "4. **Compresión de Datos:** PCA puede ser utilizado para comprimir datos manteniendo la mayor parte de su información. Esto es útil en aplicaciones donde se necesita almacenar o transmitir grandes volúmenes de datos de manera eficiente.\n",
    "\n",
    "En resumen, PCA es una técnica poderosa para analizar y simplificar conjuntos de datos complejos, facilitando la comprensión de la estructura subyacente de los datos y permitiendo la toma de decisiones informadas en diversas aplicaciones.\n",
    "\n",
    "A continuación, te mostraré cómo crear un DataFrame con pandas y luego realizar un análisis de PCA en esos datos:"
   ]
  },
  {
   "cell_type": "code",
   "execution_count": 1,
   "id": "e8fd0333",
   "metadata": {},
   "outputs": [],
   "source": [
    "# Importa las bibliotecas necesarias\n",
    "import pandas as pd\n",
    "from sklearn.decomposition import PCA\n",
    "from sklearn.preprocessing import StandardScaler"
   ]
  },
  {
   "cell_type": "code",
   "execution_count": 2,
   "id": "a7a3dcb9",
   "metadata": {},
   "outputs": [],
   "source": [
    "# Crea un DataFrame de ejemplo\n",
    "data = {\n",
    "    'Feature1': [1, 2, 3, 4, 5],\n",
    "    'Feature2': [5, 4, 3, 2, 1],\n",
    "    'Feature3': [2, 3, 1, 5, 4]\n",
    "}\n",
    "\n",
    "df = pd.DataFrame(data)"
   ]
  },
  {
   "cell_type": "code",
   "execution_count": 3,
   "id": "751ca8a0",
   "metadata": {},
   "outputs": [],
   "source": [
    "# Estandariza los datos (opcional, pero se recomienda para PCA)\n",
    "scaler = StandardScaler()\n",
    "scaled_data = scaler.fit_transform(df)"
   ]
  },
  {
   "cell_type": "code",
   "execution_count": 4,
   "id": "8e6b2fb1",
   "metadata": {},
   "outputs": [],
   "source": [
    "# Realiza el análisis de PCA con 2 componentes principales\n",
    "pca = PCA(n_components=2)\n",
    "pca_result = pca.fit_transform(scaled_data)"
   ]
  },
  {
   "cell_type": "code",
   "execution_count": 5,
   "id": "f2433c4e",
   "metadata": {},
   "outputs": [],
   "source": [
    "# Crea un nuevo DataFrame con los resultados de PCA\n",
    "pca_df = pd.DataFrame(data=pca_result, columns=['PC1', 'PC2'])"
   ]
  },
  {
   "cell_type": "code",
   "execution_count": 6,
   "id": "3ed2707f",
   "metadata": {},
   "outputs": [],
   "source": [
    "# Concatena los resultados de PCA con el DataFrame original\n",
    "final_df = pd.concat([df, pca_df], axis=1)"
   ]
  },
  {
   "cell_type": "code",
   "execution_count": 7,
   "id": "c7d110c7",
   "metadata": {},
   "outputs": [
    {
     "name": "stdout",
     "output_type": "stream",
     "text": [
      "   Feature1  Feature2  Feature3       PC1       PC2\n",
      "0         1         5         2 -2.087305 -0.378361\n",
      "1         2         4         3 -0.868238 -0.496149\n",
      "2         3         3         1 -0.701660  1.227873\n",
      "3         4         2         5  1.569898 -0.731725\n",
      "4         5         1         4  2.087305  0.378361\n"
     ]
    }
   ],
   "source": [
    "# Muestra el DataFrame final con los resultados de PCA\n",
    "print(final_df)"
   ]
  },
  {
   "cell_type": "code",
   "execution_count": null,
   "id": "3c8b4a7f",
   "metadata": {},
   "outputs": [],
   "source": []
  }
 ],
 "metadata": {
  "kernelspec": {
   "display_name": "Python 3 (ipykernel)",
   "language": "python",
   "name": "python3"
  },
  "language_info": {
   "codemirror_mode": {
    "name": "ipython",
    "version": 3
   },
   "file_extension": ".py",
   "mimetype": "text/x-python",
   "name": "python",
   "nbconvert_exporter": "python",
   "pygments_lexer": "ipython3",
   "version": "3.11.4"
  }
 },
 "nbformat": 4,
 "nbformat_minor": 5
}
