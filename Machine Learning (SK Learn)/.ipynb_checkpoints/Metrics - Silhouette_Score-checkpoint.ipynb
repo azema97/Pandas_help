{
 "cells": [
  {
   "cell_type": "markdown",
   "id": "0c2b5f2d",
   "metadata": {},
   "source": [
    "# Silhouette Score\n",
    "\n",
    "El **Silhouette Score** es una métrica utilizada para calcular la bondad de un clúster (grupo) en un conjunto de datos. Esta métrica proporciona información sobre qué tan bien están separados los clústeres. Un Silhouette Score alto indica que los clústeres están bien definidos y están separados unos de otros, mientras que un puntaje bajo indica que los clústeres pueden superponerse.\n",
    "\n",
    "El Silhouette Score se calcula para cada punto de datos en función de la distancia media al resto de puntos en el mismo clúster (a) y la distancia media al punto más cercano en un clúster diferente (b). La fórmula para calcular el Silhouette Score de un punto \\( i \\) es:\n",
    "\n",
    "$$ \\text{Silhouette Score}(i) = \\frac{b(i) - a(i)}{\\max\\{a(i), b(i)\\}}$$\n",
    "\n",
    "Donde:\n",
    "- \\( a(i) \\) es la distancia promedio de \\( i \\) a los puntos en el mismo clúster.\n",
    "- \\( b(i) \\) es la distancia promedio de \\( i \\) a los puntos en el clúster más cercano al que \\( i \\) no pertenece.\n",
    "\n",
    "El Silhouette Score global para el conjunto de datos es el promedio del Silhouette Score de cada punto. El valor del Silhouette Score varía entre -1 y 1. Un valor cercano a 1 indica que el clúster está bien definido, mientras que un valor cercano a -1 indica que el punto está mal asignado y probablemente debería estar en otro clúster. Un valor cercano a 0 indica que el punto está en o muy cerca del límite entre dos clústeres.\n",
    "\n",
    "El Silhouette Score es útil para determinar el número óptimo de clústeres en un algoritmo de clustering, como K-Means. Al probar diferentes valores de \\( k \\) (el número de clústeres) y calcular el Silhouette Score para cada \\( k \\), puedes identificar el número de clústeres que proporciona la mejor separación entre los clústeres.\n",
    "\n",
    "En resumen, el Silhouette Score es una métrica importante para evaluar la calidad de los clústeres en un conjunto de datos y ayuda a los analistas de datos a tomar decisiones informadas sobre la estructura del clúster en un problema de clustering."
   ]
  },
  {
   "cell_type": "markdown",
   "id": "e743768f",
   "metadata": {},
   "source": [
    "## Ejemplo"
   ]
  },
  {
   "cell_type": "code",
   "execution_count": 1,
   "id": "41b36249",
   "metadata": {},
   "outputs": [],
   "source": [
    "# Importa las bibliotecas necesarias\n",
    "import pandas as pd\n",
    "from sklearn.cluster import KMeans\n",
    "from sklearn.metrics import silhouette_score\n",
    "from sklearn.preprocessing import StandardScaler"
   ]
  },
  {
   "cell_type": "code",
   "execution_count": 2,
   "id": "6e0e3268",
   "metadata": {},
   "outputs": [],
   "source": [
    "# Crea un DataFrame de ejemplo\n",
    "data = {\n",
    "    'Feature1': [1, 2, 3, 4, 5, 11, 12, 13, 14, 15],\n",
    "    'Feature2': [5, 4, 3, 2, 1, 15, 14, 13, 12, 11]\n",
    "}\n",
    "\n",
    "df = pd.DataFrame(data)"
   ]
  },
  {
   "cell_type": "code",
   "execution_count": 3,
   "id": "aad57e24",
   "metadata": {},
   "outputs": [],
   "source": [
    "# Estandariza los datos (opcional, pero se recomienda para K-Means)\n",
    "scaler = StandardScaler()\n",
    "scaled_data = scaler.fit_transform(df)"
   ]
  },
  {
   "cell_type": "code",
   "execution_count": 4,
   "id": "b3d2bf8b",
   "metadata": {},
   "outputs": [
    {
     "name": "stdout",
     "output_type": "stream",
     "text": [
      "Silhouette Score para 2 clústeres: 0.80\n",
      "Silhouette Score para 3 clústeres: 0.63\n",
      "Silhouette Score para 4 clústeres: 0.47\n",
      "Silhouette Score para 5 clústeres: 0.36\n"
     ]
    }
   ],
   "source": [
    "# Calcula el Silhouette Score para diferentes valores de k (número de clústeres)\n",
    "\n",
    "# Probamos con 2, 3, 4 y 5 clústeres\n",
    "for k in range(2, 6):  \n",
    "    kmeans = KMeans(n_clusters=k, random_state=42, n_init = 10)\n",
    "    cluster_labels = kmeans.fit_predict(scaled_data)\n",
    "    silhouette_avg = silhouette_score(scaled_data, cluster_labels)\n",
    "    print(f\"Silhouette Score para {k} clústeres: {silhouette_avg:.2f}\")"
   ]
  },
  {
   "cell_type": "code",
   "execution_count": null,
   "id": "d0d12711",
   "metadata": {},
   "outputs": [],
   "source": []
  }
 ],
 "metadata": {
  "kernelspec": {
   "display_name": "Python 3 (ipykernel)",
   "language": "python",
   "name": "python3"
  },
  "language_info": {
   "codemirror_mode": {
    "name": "ipython",
    "version": 3
   },
   "file_extension": ".py",
   "mimetype": "text/x-python",
   "name": "python",
   "nbconvert_exporter": "python",
   "pygments_lexer": "ipython3",
   "version": "3.11.4"
  }
 },
 "nbformat": 4,
 "nbformat_minor": 5
}
