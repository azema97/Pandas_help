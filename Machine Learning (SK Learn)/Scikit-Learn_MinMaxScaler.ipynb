{
 "cells": [
  {
   "cell_type": "markdown",
   "id": "2cb2affb",
   "metadata": {},
   "source": [
    "# 📋 Normalización con MinMaxScaler (Scikit Learn)"
   ]
  },
  {
   "cell_type": "markdown",
   "id": "22cf852f",
   "metadata": {},
   "source": [
    "Puedes normalizar las columnas de un DataFrame de Pandas utilizando Scikit-Learn con la fórmula de la normalización min-max. \n",
    "La normalización min-max escala los valores de las columnas a un rango específico, generalmente entre 0 y 1. La fórmula para la normalización min-max es la siguiente:\n",
    "\n",
    "> x normalizado = (x - min(x)) / (max(x) - min(x))\n",
    "\n",
    "Este código creará un DataFrame de ejemplo con dos columnas ('A' y 'B') y luego normalizará ambas columnas utilizando MinMaxScaler de Scikit-Learn. Puedes ajustar la lista `columns_to_normalize` para especificar las columnas que deseas normalizar en tu DataFrame real."
   ]
  },
  {
   "cell_type": "code",
   "execution_count": 1,
   "id": "dc753f58",
   "metadata": {},
   "outputs": [],
   "source": [
    "import pandas as pd\n",
    "from sklearn.preprocessing import MinMaxScaler"
   ]
  },
  {
   "cell_type": "code",
   "execution_count": 2,
   "id": "2b2f3a9b",
   "metadata": {},
   "outputs": [
    {
     "name": "stdout",
     "output_type": "stream",
     "text": [
      "    A   B\n",
      "0  10   5\n",
      "1  20  15\n",
      "2  30  25\n",
      "3  40  35\n",
      "4  50  45\n"
     ]
    }
   ],
   "source": [
    "# Crear un DataFrame de ejemplo\n",
    "data = {'A': [10, 20, 30, 40, 50],\n",
    "        'B': [5, 15, 25, 35, 45]}\n",
    "\n",
    "df = pd.DataFrame(data)\n",
    "\n",
    "print(df)"
   ]
  },
  {
   "cell_type": "code",
   "execution_count": 3,
   "id": "fb9ed6f0",
   "metadata": {},
   "outputs": [],
   "source": [
    "# Inicializar el escalador MinMaxScaler\n",
    "scaler = MinMaxScaler()"
   ]
  },
  {
   "cell_type": "code",
   "execution_count": 4,
   "id": "e4e02e21",
   "metadata": {},
   "outputs": [],
   "source": [
    "# Aplicar el escalador a las columnas que deseas normalizar\n",
    "columns_to_normalize = ['A', 'B']\n",
    "df[columns_to_normalize] = scaler.fit_transform(df[columns_to_normalize])"
   ]
  },
  {
   "cell_type": "code",
   "execution_count": 5,
   "id": "9226d64f",
   "metadata": {},
   "outputs": [
    {
     "name": "stdout",
     "output_type": "stream",
     "text": [
      "      A     B\n",
      "0  0.00  0.00\n",
      "1  0.25  0.25\n",
      "2  0.50  0.50\n",
      "3  0.75  0.75\n",
      "4  1.00  1.00\n"
     ]
    }
   ],
   "source": [
    "# El DataFrame df ahora contiene las columnas normalizadas\n",
    "print(df)"
   ]
  }
 ],
 "metadata": {
  "kernelspec": {
   "display_name": "Python 3 (ipykernel)",
   "language": "python",
   "name": "python3"
  },
  "language_info": {
   "codemirror_mode": {
    "name": "ipython",
    "version": 3
   },
   "file_extension": ".py",
   "mimetype": "text/x-python",
   "name": "python",
   "nbconvert_exporter": "python",
   "pygments_lexer": "ipython3",
   "version": "3.11.4"
  }
 },
 "nbformat": 4,
 "nbformat_minor": 5
}
