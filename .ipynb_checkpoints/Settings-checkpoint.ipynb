{
 "cells": [
  {
   "cell_type": "markdown",
   "id": "0bda4b22",
   "metadata": {},
   "source": [
    "# ⚙️ Settings"
   ]
  },
  {
   "cell_type": "code",
   "execution_count": 1,
   "id": "c1af7acb",
   "metadata": {},
   "outputs": [],
   "source": [
    "import pandas as pd"
   ]
  },
  {
   "cell_type": "markdown",
   "id": "1c9a303c",
   "metadata": {},
   "source": [
    "---\n",
    "### ⚠️ \"setting with copy warning\"\n",
    "`pd.options.mode.chained_assignment = None`<br>This setting will remove the annoying warning when you transform the data not using a copy of the same."
   ]
  },
  {
   "cell_type": "code",
   "execution_count": 2,
   "id": "b2802681",
   "metadata": {},
   "outputs": [],
   "source": [
    "# This setting will remove the annoying warning when you transform the data not using a copy of the same.\n",
    "\n",
    "pd.options.mode.chained_assignment = None  \n",
    "# default='warn'"
   ]
  },
  {
   "cell_type": "markdown",
   "id": "2142ce9c",
   "metadata": {},
   "source": [
    "---"
   ]
  },
  {
   "cell_type": "code",
   "execution_count": null,
   "id": "831b25bf",
   "metadata": {},
   "outputs": [],
   "source": []
  }
 ],
 "metadata": {
  "kernelspec": {
   "display_name": "Python 3 (ipykernel)",
   "language": "python",
   "name": "python3"
  },
  "language_info": {
   "codemirror_mode": {
    "name": "ipython",
    "version": 3
   },
   "file_extension": ".py",
   "mimetype": "text/x-python",
   "name": "python",
   "nbconvert_exporter": "python",
   "pygments_lexer": "ipython3",
   "version": "3.11.4"
  }
 },
 "nbformat": 4,
 "nbformat_minor": 5
}
