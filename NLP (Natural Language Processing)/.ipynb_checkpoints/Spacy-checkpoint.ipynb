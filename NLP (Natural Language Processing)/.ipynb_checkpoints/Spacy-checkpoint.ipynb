{
 "cells": [
  {
   "cell_type": "markdown",
   "id": "b973cbed-db9f-40e0-87c5-b5f940700154",
   "metadata": {},
   "source": [
    "# Spacy\n",
    "\n",
    "Spacy is an open-source Python library that is used for advanced Natural Language Processing (NLP). It's designed specifically for production use and can help you build applications that process and understand large volumes of text. It can be used for a wide range of tasks like part-of-speech tagging, named entity recognition, text classification, tokenization, and more.\n",
    "\n",
    "Spacy provides most efficient NLP algorithm for a given task. Hence, if you care about the end result, go with Spacy. If you care about specific algo and customizations, go with NLTK."
   ]
  },
  {
   "cell_type": "code",
   "execution_count": 1,
   "id": "9c796032-91aa-48b8-bda8-6a7c90931798",
   "metadata": {},
   "outputs": [],
   "source": [
    "# installing spacy and english language model\n",
    "\n",
    "# !pip install spacy\n",
    "# !python -m spacy download en_core_web_sm"
   ]
  },
  {
   "cell_type": "code",
   "execution_count": 2,
   "id": "f0412666-1115-4501-ace1-a238b090b9a7",
   "metadata": {},
   "outputs": [],
   "source": [
    "import spacy\n",
    "\n",
    "# Load English tokenizer, tagger, parser, NER and word vectors\n",
    "nlp = spacy.load(\"en_core_web_sm\")"
   ]
  },
  {
   "cell_type": "code",
   "execution_count": 3,
   "id": "b27c964a-3f73-4ad5-aa86-dfe092b05fdf",
   "metadata": {},
   "outputs": [],
   "source": [
    "text = \"When learning data science, you shouldn't get discouraged! \\\n",
    "Challenges and setbacks aren't failures, they're just part of the journey. You've got this!\"\n",
    "\n",
    "#  \"nlp\" Object is used to create documents with linguistic annotations.\n",
    "doc = nlp(text)"
   ]
  },
  {
   "cell_type": "code",
   "execution_count": 4,
   "id": "da86eaf8-3b4c-4201-884e-40fc2053cff0",
   "metadata": {},
   "outputs": [
    {
     "name": "stdout",
     "output_type": "stream",
     "text": [
      "When learning data science, you shouldn't get discouraged!\n",
      "Challenges and setbacks aren't failures, they're just part of the journey.\n",
      "You've got this!\n"
     ]
    }
   ],
   "source": [
    "# Printing sentence\n",
    "\n",
    "for sentence in doc.sents:\n",
    "    print(sentence)"
   ]
  },
  {
   "cell_type": "code",
   "execution_count": 5,
   "id": "5333fd76-276d-4b0b-8500-3afe3508ac2f",
   "metadata": {},
   "outputs": [
    {
     "name": "stdout",
     "output_type": "stream",
     "text": [
      "When\n",
      "learning\n",
      "data\n",
      "science\n",
      ",\n",
      "you\n",
      "should\n",
      "n't\n",
      "get\n",
      "discouraged\n",
      "!\n",
      "Challenges\n",
      "and\n",
      "setbacks\n",
      "are\n",
      "n't\n",
      "failures\n",
      ",\n",
      "they\n",
      "'re\n",
      "just\n",
      "part\n",
      "of\n",
      "the\n",
      "journey\n",
      ".\n",
      "You\n",
      "'ve\n",
      "got\n",
      "this\n",
      "!\n"
     ]
    }
   ],
   "source": [
    "# Printing words\n",
    "\n",
    "for word in doc:\n",
    "    print(word)"
   ]
  },
  {
   "cell_type": "code",
   "execution_count": null,
   "id": "faf9ce26-22fa-4b54-b8bb-2a3570423f30",
   "metadata": {},
   "outputs": [],
   "source": []
  }
 ],
 "metadata": {
  "kernelspec": {
   "display_name": "Python 3 (ipykernel)",
   "language": "python",
   "name": "python3"
  },
  "language_info": {
   "codemirror_mode": {
    "name": "ipython",
    "version": 3
   },
   "file_extension": ".py",
   "mimetype": "text/x-python",
   "name": "python",
   "nbconvert_exporter": "python",
   "pygments_lexer": "ipython3",
   "version": "3.11.4"
  }
 },
 "nbformat": 4,
 "nbformat_minor": 5
}
