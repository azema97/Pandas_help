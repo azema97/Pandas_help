{
 "cells": [
  {
   "cell_type": "markdown",
   "id": "32c1a1b3",
   "metadata": {},
   "source": [
    "## Normalización Z-Score\n",
    "\n",
    "La normalización Z-score, también conocida como estandarización Z-score o estandarización estándar, es una técnica común utilizada en estadísticas y análisis de datos para **transformar una variable numérica de manera que tenga una media de 0 y una desviación estándar de 1. Esto facilita la comparación de diferentes variables que pueden tener diferentes escalas y distribuciones.**\n",
    "\n",
    "La fórmula para la normalización Z-score de una variable x se calcula de la siguiente manera:\n",
    "\n",
    "$$Z = \\frac{x - \\mu}{\\sigma}$$\n",
    "\n",
    "Donde:\n",
    "- $Z$ es el valor normalizado Z-score.\n",
    "- $x$ es el valor original de la variable.\n",
    "- $\\mu$ es la **media** de la variable.\n",
    "- $\\sigma$ es la **desviación estándar** de la variable."
   ]
  },
  {
   "cell_type": "markdown",
   "id": "d9bd665f",
   "metadata": {},
   "source": [
    "Para realizar la normalización Z-score en un notebook de Python, puedes seguir estos pasos utilizando bibliotecas como NumPy y pandas. Supongamos que tienes una columna de datos en un DataFrame de pandas llamado \"data\" que deseas normalizar:"
   ]
  },
  {
   "cell_type": "code",
   "execution_count": 1,
   "id": "016b2e42",
   "metadata": {},
   "outputs": [],
   "source": [
    "import numpy as np\n",
    "import pandas as pd"
   ]
  },
  {
   "cell_type": "code",
   "execution_count": 2,
   "id": "cdc9354e",
   "metadata": {},
   "outputs": [],
   "source": [
    "# Creamos un dataframe de prueba\n",
    "data = {'A': [25, 30, 35, 40, 45],\n",
    "        'B': [15, 20, 25, 30, 35],\n",
    "        'C': [5, 10, 15, 20, 25]}\n",
    "\n",
    "df = pd.DataFrame(data)"
   ]
  },
  {
   "cell_type": "code",
   "execution_count": 3,
   "id": "2ef1c50f",
   "metadata": {},
   "outputs": [],
   "source": [
    "# Calcula la media y la desviación estándar de la columna 'A'\n",
    "mean_A = df['A'].mean()\n",
    "std_dev_A = df['A'].std()\n",
    "\n",
    "# Aplica la normalización Z-score a la columna 'A' y crea una nueva columna 'A_normalized'\n",
    "df['A_norm'] = (df['A'] - mean_A) / std_dev_A\n",
    "\n",
    "# Opcional: se puede redondear a dos decimales\n",
    "df['A_norm'] = round(df['A_norm'],2)"
   ]
  },
  {
   "cell_type": "code",
   "execution_count": 4,
   "id": "1bdcf912",
   "metadata": {},
   "outputs": [
    {
     "data": {
      "text/html": [
       "<div>\n",
       "<style scoped>\n",
       "    .dataframe tbody tr th:only-of-type {\n",
       "        vertical-align: middle;\n",
       "    }\n",
       "\n",
       "    .dataframe tbody tr th {\n",
       "        vertical-align: top;\n",
       "    }\n",
       "\n",
       "    .dataframe thead th {\n",
       "        text-align: right;\n",
       "    }\n",
       "</style>\n",
       "<table border=\"1\" class=\"dataframe\">\n",
       "  <thead>\n",
       "    <tr style=\"text-align: right;\">\n",
       "      <th></th>\n",
       "      <th>A</th>\n",
       "      <th>B</th>\n",
       "      <th>C</th>\n",
       "      <th>A_norm</th>\n",
       "    </tr>\n",
       "  </thead>\n",
       "  <tbody>\n",
       "    <tr>\n",
       "      <th>0</th>\n",
       "      <td>25</td>\n",
       "      <td>15</td>\n",
       "      <td>5</td>\n",
       "      <td>-1.26</td>\n",
       "    </tr>\n",
       "    <tr>\n",
       "      <th>1</th>\n",
       "      <td>30</td>\n",
       "      <td>20</td>\n",
       "      <td>10</td>\n",
       "      <td>-0.63</td>\n",
       "    </tr>\n",
       "    <tr>\n",
       "      <th>2</th>\n",
       "      <td>35</td>\n",
       "      <td>25</td>\n",
       "      <td>15</td>\n",
       "      <td>0.00</td>\n",
       "    </tr>\n",
       "    <tr>\n",
       "      <th>3</th>\n",
       "      <td>40</td>\n",
       "      <td>30</td>\n",
       "      <td>20</td>\n",
       "      <td>0.63</td>\n",
       "    </tr>\n",
       "    <tr>\n",
       "      <th>4</th>\n",
       "      <td>45</td>\n",
       "      <td>35</td>\n",
       "      <td>25</td>\n",
       "      <td>1.26</td>\n",
       "    </tr>\n",
       "  </tbody>\n",
       "</table>\n",
       "</div>"
      ],
      "text/plain": [
       "    A   B   C  A_norm\n",
       "0  25  15   5   -1.26\n",
       "1  30  20  10   -0.63\n",
       "2  35  25  15    0.00\n",
       "3  40  30  20    0.63\n",
       "4  45  35  25    1.26"
      ]
     },
     "execution_count": 4,
     "metadata": {},
     "output_type": "execute_result"
    }
   ],
   "source": [
    "df"
   ]
  }
 ],
 "metadata": {
  "kernelspec": {
   "display_name": "Python 3 (ipykernel)",
   "language": "python",
   "name": "python3"
  },
  "language_info": {
   "codemirror_mode": {
    "name": "ipython",
    "version": 3
   },
   "file_extension": ".py",
   "mimetype": "text/x-python",
   "name": "python",
   "nbconvert_exporter": "python",
   "pygments_lexer": "ipython3",
   "version": "3.11.4"
  }
 },
 "nbformat": 4,
 "nbformat_minor": 5
}
