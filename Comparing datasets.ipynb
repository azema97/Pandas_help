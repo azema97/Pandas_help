{
 "cells": [
  {
   "cell_type": "code",
   "execution_count": 1,
   "id": "e6e5eb92",
   "metadata": {},
   "outputs": [],
   "source": [
    "# Import pandas library in Python\n",
    "import pandas as pd"
   ]
  },
  {
   "cell_type": "code",
   "execution_count": 4,
   "id": "120d3308",
   "metadata": {},
   "outputs": [
    {
     "name": "stdout",
     "output_type": "stream",
     "text": [
      "   x1 x2  x3\n",
      "0  20  a  21\n",
      "1  21  a  22\n",
      "2  22  a  23\n",
      "3  23  b  24\n",
      "4  24  b  25\n",
      "5  25  b  26\n"
     ]
    }
   ],
   "source": [
    "data1 = pd.DataFrame({'x1':range(20, 26),\n",
    "                      'x2':['a', 'a', 'a', 'b', 'b', 'b'],\n",
    "                      'x3':range(21, 27)})\n",
    "print(data1)"
   ]
  },
  {
   "cell_type": "code",
   "execution_count": 5,
   "id": "8710f75b",
   "metadata": {},
   "outputs": [
    {
     "name": "stdout",
     "output_type": "stream",
     "text": [
      "   x1 x2  x3\n",
      "0  22  a  23\n",
      "1  23  a  24\n",
      "2  24  b  25\n",
      "3  25  b  26\n",
      "4  26  b  27\n",
      "5  27  b  28\n",
      "6  28  b  29\n"
     ]
    }
   ],
   "source": [
    "data2 = pd.DataFrame({'x1':range(22, 29),\n",
    "                      'x2':['a', 'a', 'b', 'b', 'b', 'b', 'b'],\n",
    "                      'x3':range(23, 30)})\n",
    "print(data2)"
   ]
  },
  {
   "cell_type": "code",
   "execution_count": 6,
   "id": "275b4147",
   "metadata": {},
   "outputs": [
    {
     "name": "stdout",
     "output_type": "stream",
     "text": [
      "   x1 x2  x3      _merge\n",
      "0  20  a  21   left_only\n",
      "1  21  a  22   left_only\n",
      "2  22  a  23        both\n",
      "3  23  b  24   left_only\n",
      "4  24  b  25        both\n",
      "5  25  b  26        both\n",
      "6  23  a  24  right_only\n",
      "7  26  b  27  right_only\n",
      "8  27  b  28  right_only\n",
      "9  28  b  29  right_only\n"
     ]
    }
   ],
   "source": [
    "# Outer join\n",
    "data_12 = data1.merge(data2,\n",
    "                      indicator = True,\n",
    "                      how = 'outer')\n",
    "print(data_12)"
   ]
  },
  {
   "cell_type": "code",
   "execution_count": 7,
   "id": "e708b515",
   "metadata": {},
   "outputs": [
    {
     "name": "stdout",
     "output_type": "stream",
     "text": [
      "   x1 x2  x3      _merge\n",
      "0  20  a  21   left_only\n",
      "1  21  a  22   left_only\n",
      "3  23  b  24   left_only\n",
      "6  23  a  24  right_only\n",
      "7  26  b  27  right_only\n",
      "8  27  b  28  right_only\n",
      "9  28  b  29  right_only\n"
     ]
    }
   ],
   "source": [
    "# Difference\n",
    "data_12_diff = data_12.loc[lambda x : x['_merge'] != 'both']\n",
    "print(data_12_diff)"
   ]
  },
  {
   "cell_type": "code",
   "execution_count": 8,
   "id": "f5766f14",
   "metadata": {},
   "outputs": [
    {
     "name": "stdout",
     "output_type": "stream",
     "text": [
      "   x1 x2  x3 _merge\n",
      "0  22  a  23   both\n",
      "1  24  b  25   both\n",
      "2  25  b  26   both\n"
     ]
    }
   ],
   "source": [
    "# Inner join\n",
    "data_12 = data1.merge(data2,\n",
    "                      indicator = True,\n",
    "                      how = 'inner')\n",
    "print(data_12)"
   ]
  },
  {
   "cell_type": "code",
   "execution_count": null,
   "id": "b9a085b6",
   "metadata": {},
   "outputs": [],
   "source": []
  }
 ],
 "metadata": {
  "kernelspec": {
   "display_name": "Python 3 (ipykernel)",
   "language": "python",
   "name": "python3"
  },
  "language_info": {
   "codemirror_mode": {
    "name": "ipython",
    "version": 3
   },
   "file_extension": ".py",
   "mimetype": "text/x-python",
   "name": "python",
   "nbconvert_exporter": "python",
   "pygments_lexer": "ipython3",
   "version": "3.9.12"
  }
 },
 "nbformat": 4,
 "nbformat_minor": 5
}
