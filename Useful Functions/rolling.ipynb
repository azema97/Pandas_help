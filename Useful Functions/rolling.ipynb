{
 "cells": [
  {
   "cell_type": "markdown",
   "id": "9def5e20",
   "metadata": {},
   "source": [
    "# 🧻 rolling()\n",
    "\n",
    "La función `rolling()` en Pandas se utiliza para realizar operaciones de ventana (window operations) en datos de series temporales. La idea principal es aplicar una función determinada a una ventana deslizante de observaciones a lo largo de la serie temporal. Esta función es útil para realizar cálculos acumulativos o estadísticas móviles en datos secuenciales, como series temporales.\n",
    "\n",
    "La sintaxis básica de `rolling()` es la siguiente:\n",
    "\n",
    "```python\n",
    "DataFrame.rolling(window, min_periods=None, center=False, win_type=None, on=None, axis=0, closed=None)\n",
    "```\n",
    "\n",
    "- `window`: Especifica el tamaño de la ventana móvil, es decir, el número de observaciones que se deben incluir en cada cálculo.\n",
    "- `min_periods`: Número mínimo de observaciones no nulas necesarias para tener un valor no nulo en el resultado.\n",
    "- `center`: Si es `True`, el índice de la ventana se establece en el centro de la ventana. Si es `False` (predeterminado), el índice se establece en el extremo derecho de la ventana.\n",
    "- `win_type`: Tipo de ventana a utilizar. Puede ser una cadena que representa una función de ventana (por ejemplo, \"triang\" para una ventana triangular).\n",
    "- `on`: Nombre de la columna si se desea aplicar la operación de ventana a una columna específica.\n",
    "- `axis`: Eje a lo largo del cual se realiza la operación. Por defecto, es 0 (a lo largo de las filas).\n",
    "- `closed`: Especifica el lado del intervalo que está cerrado. Puede ser 'right' (predeterminado), 'left', o `None`.\n",
    "\n",
    "Aquí hay un ejemplo sencillo de cómo usar rolling():"
   ]
  },
  {
   "cell_type": "code",
   "execution_count": 1,
   "id": "448fe2af",
   "metadata": {},
   "outputs": [],
   "source": [
    "import pandas as pd\n",
    "\n",
    "# Crear un DataFrame de ejemplo\n",
    "data = {'Value': [1, 2, 3, 4, 5, 6, 7, 8, 9, 10]}\n",
    "df = pd.DataFrame(data)"
   ]
  },
  {
   "cell_type": "code",
   "execution_count": 2,
   "id": "895a529d",
   "metadata": {},
   "outputs": [
    {
     "name": "stdout",
     "output_type": "stream",
     "text": [
      "   Value  RollingMean\n",
      "0      1          NaN\n",
      "1      2          NaN\n",
      "2      3          2.0\n",
      "3      4          3.0\n",
      "4      5          4.0\n",
      "5      6          5.0\n",
      "6      7          6.0\n",
      "7      8          7.0\n",
      "8      9          8.0\n",
      "9     10          9.0\n"
     ]
    }
   ],
   "source": [
    "# Aplicar una media móvil con una ventana de tamaño 3\n",
    "df['RollingMean'] = df['Value'].rolling(window=3).mean()\n",
    "\n",
    "print(df)"
   ]
  },
  {
   "cell_type": "markdown",
   "id": "41c955c7",
   "metadata": {},
   "source": [
    "---\n",
    "En este ejemplo, se calcula la media móvil de la columna 'Value' con una ventana de tamaño 3. La primera fila en 'RollingMean' estará vacía porque no hay suficientes observaciones para calcular la media móvil en ese punto. A medida que avanzas en el DataFrame, se va aplicando la ventana deslizante, y cada valor en 'RollingMean' representa la media de las tres observaciones consecutivas."
   ]
  },
  {
   "cell_type": "code",
   "execution_count": null,
   "id": "315bde60",
   "metadata": {},
   "outputs": [],
   "source": []
  }
 ],
 "metadata": {
  "kernelspec": {
   "display_name": "Python 3 (ipykernel)",
   "language": "python",
   "name": "python3"
  },
  "language_info": {
   "codemirror_mode": {
    "name": "ipython",
    "version": 3
   },
   "file_extension": ".py",
   "mimetype": "text/x-python",
   "name": "python",
   "nbconvert_exporter": "python",
   "pygments_lexer": "ipython3",
   "version": "3.11.4"
  }
 },
 "nbformat": 4,
 "nbformat_minor": 5
}
