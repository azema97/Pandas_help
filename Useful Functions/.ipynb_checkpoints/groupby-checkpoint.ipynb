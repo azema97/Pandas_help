{
 "cells": [
  {
   "cell_type": "markdown",
   "id": "78e46599",
   "metadata": {},
   "source": [
    "# 🧪 Group By (Pandas)\n",
    "La función `groupby()` de la biblioteca de Python llamada Pandas se utiliza para agrupar filas de un DataFrame en función de los valores de una o más columnas. Es una operación fundamental en el análisis de datos, ya que permite realizar cálculos y resúmenes específicos en subconjuntos de datos que comparten un valor común en una o más columnas. Algunas de las operaciones comunes que se pueden realizar después de agrupar datos incluyen la suma, promedio, conteo, y muchas otras funciones de agregación."
   ]
  },
  {
   "cell_type": "code",
   "execution_count": 1,
   "id": "a2a06fcf",
   "metadata": {},
   "outputs": [],
   "source": [
    "import pandas as pd"
   ]
  },
  {
   "cell_type": "code",
   "execution_count": 2,
   "id": "2e79c013",
   "metadata": {},
   "outputs": [
    {
     "data": {
      "text/html": [
       "<div>\n",
       "<style scoped>\n",
       "    .dataframe tbody tr th:only-of-type {\n",
       "        vertical-align: middle;\n",
       "    }\n",
       "\n",
       "    .dataframe tbody tr th {\n",
       "        vertical-align: top;\n",
       "    }\n",
       "\n",
       "    .dataframe thead th {\n",
       "        text-align: right;\n",
       "    }\n",
       "</style>\n",
       "<table border=\"1\" class=\"dataframe\">\n",
       "  <thead>\n",
       "    <tr style=\"text-align: right;\">\n",
       "      <th></th>\n",
       "      <th>Producto</th>\n",
       "      <th>Ventas</th>\n",
       "      <th>Tienda</th>\n",
       "    </tr>\n",
       "  </thead>\n",
       "  <tbody>\n",
       "    <tr>\n",
       "      <th>0</th>\n",
       "      <td>A</td>\n",
       "      <td>100</td>\n",
       "      <td>Tienda1</td>\n",
       "    </tr>\n",
       "    <tr>\n",
       "      <th>1</th>\n",
       "      <td>B</td>\n",
       "      <td>150</td>\n",
       "      <td>Tienda2</td>\n",
       "    </tr>\n",
       "    <tr>\n",
       "      <th>2</th>\n",
       "      <td>A</td>\n",
       "      <td>200</td>\n",
       "      <td>Tienda1</td>\n",
       "    </tr>\n",
       "    <tr>\n",
       "      <th>3</th>\n",
       "      <td>B</td>\n",
       "      <td>50</td>\n",
       "      <td>Tienda2</td>\n",
       "    </tr>\n",
       "    <tr>\n",
       "      <th>4</th>\n",
       "      <td>A</td>\n",
       "      <td>75</td>\n",
       "      <td>Tienda1</td>\n",
       "    </tr>\n",
       "    <tr>\n",
       "      <th>5</th>\n",
       "      <td>B</td>\n",
       "      <td>125</td>\n",
       "      <td>Tienda2</td>\n",
       "    </tr>\n",
       "  </tbody>\n",
       "</table>\n",
       "</div>"
      ],
      "text/plain": [
       "  Producto  Ventas   Tienda\n",
       "0        A     100  Tienda1\n",
       "1        B     150  Tienda2\n",
       "2        A     200  Tienda1\n",
       "3        B      50  Tienda2\n",
       "4        A      75  Tienda1\n",
       "5        B     125  Tienda2"
      ]
     },
     "execution_count": 2,
     "metadata": {},
     "output_type": "execute_result"
    }
   ],
   "source": [
    "data = {\n",
    "    'Producto': ['A', 'B', 'A', 'B', 'A', 'B'],\n",
    "    'Ventas': [100, 150, 200, 50, 75, 125],\n",
    "    'Tienda': ['Tienda1', 'Tienda2', 'Tienda1', 'Tienda2', 'Tienda1', 'Tienda2']\n",
    "}\n",
    "\n",
    "df = pd.DataFrame(data)\n",
    "df"
   ]
  },
  {
   "cell_type": "code",
   "execution_count": 3,
   "id": "cdcfa531",
   "metadata": {},
   "outputs": [
    {
     "data": {
      "text/plain": [
       "Producto\n",
       "A    375\n",
       "B    325\n",
       "Name: Ventas, dtype: int64"
      ]
     },
     "execution_count": 3,
     "metadata": {},
     "output_type": "execute_result"
    }
   ],
   "source": [
    "# Viendo ventas por producto\n",
    "ventas_por_producto = df.groupby('Producto')['Ventas'].sum()\n",
    "ventas_por_producto"
   ]
  },
  {
   "cell_type": "code",
   "execution_count": null,
   "id": "7228e640",
   "metadata": {},
   "outputs": [],
   "source": []
  }
 ],
 "metadata": {
  "kernelspec": {
   "display_name": "Python 3 (ipykernel)",
   "language": "python",
   "name": "python3"
  },
  "language_info": {
   "codemirror_mode": {
    "name": "ipython",
    "version": 3
   },
   "file_extension": ".py",
   "mimetype": "text/x-python",
   "name": "python",
   "nbconvert_exporter": "python",
   "pygments_lexer": "ipython3",
   "version": "3.11.4"
  }
 },
 "nbformat": 4,
 "nbformat_minor": 5
}
