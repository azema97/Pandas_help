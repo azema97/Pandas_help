{
 "cells": [
  {
   "cell_type": "markdown",
   "id": "e19ea4a5",
   "metadata": {},
   "source": [
    "# 🗓️ Datetime\n",
    "\n",
    "En pandas, la función `datetime` se utiliza para convertir objetos de fecha y hora en un formato compatible con las operaciones de manipulación de fechas y tiempos en Python. La funcionalidad principal se encuentra en el módulo `pandas.to_datetime`. Esta función puede convertir diferentes tipos de datos en objetos de fecha y hora de pandas.\n",
    "\n",
    "En breve, la función to_datetime en pandas es una herramienta esencial para manejar datos de fecha y hora, facilitando la conversión y manipulación de fechas en un formato que permite realizar operaciones temporales de manera eficiente en el entorno de pandas.\n",
    "\n",
    "Aquí hay algunos casos típicos de uso de la función to_datetime:"
   ]
  },
  {
   "cell_type": "markdown",
   "id": "edcf7694",
   "metadata": {},
   "source": [
    "### 🔃 Convertir una columna de texto a datetime:\n",
    "Puedes usar `pandas.to_datetime` para convertir una columna de texto que representa fechas o tiempos a objetos de fecha y hora de pandas."
   ]
  },
  {
   "cell_type": "code",
   "execution_count": 1,
   "id": "cd66758e",
   "metadata": {},
   "outputs": [
    {
     "name": "stdout",
     "output_type": "stream",
     "text": [
      "<class 'pandas.core.frame.DataFrame'>\n",
      "RangeIndex: 3 entries, 0 to 2\n",
      "Data columns (total 2 columns):\n",
      " #   Column  Non-Null Count  Dtype         \n",
      "---  ------  --------------  -----         \n",
      " 0   fecha   3 non-null      datetime64[ns]\n",
      " 1   valor   3 non-null      int64         \n",
      "dtypes: datetime64[ns](1), int64(1)\n",
      "memory usage: 180.0 bytes\n"
     ]
    }
   ],
   "source": [
    "import pandas as pd\n",
    "\n",
    "# Crear un DataFrame de ejemplo\n",
    "df = pd.DataFrame({'fecha': ['2022-01-01', '2022-02-01', '2022-03-01'],\n",
    "                   'valor': [10, 20, 30]})\n",
    "\n",
    "# Convertir la columna 'fecha' a datetime\n",
    "df['fecha'] = pd.to_datetime(df['fecha'])\n",
    "\n",
    "df.info()"
   ]
  },
  {
   "cell_type": "markdown",
   "id": "059d6d8f",
   "metadata": {},
   "source": [
    "---\n",
    "### 📅 Manejar formatos de fecha específicos:\n",
    "La función `to_datetime` puede reconocer automáticamente muchos formatos de fecha comunes, pero también puedes especificar el formato si tus fechas están en un formato particular."
   ]
  },
  {
   "cell_type": "code",
   "execution_count": 2,
   "id": "f4979722",
   "metadata": {},
   "outputs": [
    {
     "data": {
      "text/plain": [
       "Timestamp('2022-01-01 12:30:00')"
      ]
     },
     "execution_count": 2,
     "metadata": {},
     "output_type": "execute_result"
    }
   ],
   "source": [
    "fecha_str = '2022-01-01 12:30:00'\n",
    "fecha_dt = pd.to_datetime(fecha_str, format='%Y-%m-%d %H:%M:%S')\n",
    "\n",
    "fecha_dt"
   ]
  },
  {
   "cell_type": "markdown",
   "id": "b6df2a8b",
   "metadata": {},
   "source": [
    "---\n",
    "### ⏱️ Trabajar con objetos de fecha y hora:\n",
    "Una vez que has convertido las columnas a objetos de fecha y hora de pandas, puedes aprovechar las numerosas funciones y métodos de pandas para manipular y analizar estas fechas de manera eficiente."
   ]
  },
  {
   "cell_type": "code",
   "execution_count": 3,
   "id": "183a0e3b",
   "metadata": {},
   "outputs": [],
   "source": [
    "# Acceder a componentes individuales de la fecha (año, mes, día, etc.)\n",
    "df['anio'] = df['fecha'].dt.year\n",
    "df['mes'] = df['fecha'].dt.month\n",
    "df['dia'] = df['fecha'].dt.day"
   ]
  }
 ],
 "metadata": {
  "kernelspec": {
   "display_name": "Python 3 (ipykernel)",
   "language": "python",
   "name": "python3"
  },
  "language_info": {
   "codemirror_mode": {
    "name": "ipython",
    "version": 3
   },
   "file_extension": ".py",
   "mimetype": "text/x-python",
   "name": "python",
   "nbconvert_exporter": "python",
   "pygments_lexer": "ipython3",
   "version": "3.11.4"
  }
 },
 "nbformat": 4,
 "nbformat_minor": 5
}
