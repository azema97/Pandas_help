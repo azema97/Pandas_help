{
 "cells": [
  {
   "cell_type": "markdown",
   "id": "df2f4d3c",
   "metadata": {},
   "source": [
    "# 🔃 iterrows()\n",
    "\n",
    "En Pandas, la función `iterrows()` se utiliza para iterar sobre las filas de un DataFrame de manera eficiente. Sin embargo, se debe tener en cuenta que `iterrows()` no es la forma más eficiente de trabajar con DataFrames grandes debido a su rendimiento relativamente bajo.\n",
    "\n",
    "La función `iterrows()` devuelve un iterador que produce pares (índice, Serie), donde el índice es el índice de la fila y la Serie es una representación de la fila en sí. Puedes acceder a los valores de las columnas utilizando la notación de diccionario.\n",
    "\n",
    "Aquí hay un ejemplo básico de cómo usar `iterrows()`:"
   ]
  },
  {
   "cell_type": "code",
   "execution_count": 1,
   "id": "64cff867",
   "metadata": {},
   "outputs": [],
   "source": [
    "import pandas as pd\n",
    "\n",
    "# Crear un DataFrame de ejemplo\n",
    "data = {'Nombre': ['Alice', 'Bob', 'Charlie'],\n",
    "        'Edad': [25, 30, 35],\n",
    "        'Ciudad': ['A', 'B', 'C']}\n",
    "df = pd.DataFrame(data)"
   ]
  },
  {
   "cell_type": "code",
   "execution_count": 2,
   "id": "2d919f38",
   "metadata": {},
   "outputs": [
    {
     "name": "stdout",
     "output_type": "stream",
     "text": [
      "Índice: 0, Nombre: Alice, Edad: 25, Ciudad: A\n",
      "Índice: 1, Nombre: Bob, Edad: 30, Ciudad: B\n",
      "Índice: 2, Nombre: Charlie, Edad: 35, Ciudad: C\n"
     ]
    }
   ],
   "source": [
    "# Iterar sobre las filas usando iterrows()\n",
    "for index, row in df.iterrows():\n",
    "    print(f\"Índice: {index}, Nombre: {row['Nombre']}, Edad: {row['Edad']}, Ciudad: {row['Ciudad']}\")"
   ]
  },
  {
   "cell_type": "markdown",
   "id": "ccf6e14b",
   "metadata": {},
   "source": [
    "---\n",
    "Es importante destacar que, aunque iterrows() es fácil de usar, no es la opción más eficiente para realizar operaciones en DataFrames grandes. En lugar de usar iterrows(), se recomienda aprovechar las operaciones vectorizadas de Pandas siempre que sea posible, ya que son considerablemente más rápidas.\n",
    "\n",
    "Por ejemplo, si deseas aplicar una función a una columna específica, es preferible utilizar métodos como apply() o realizar operaciones directas sobre la Serie completa en lugar de usar iterrows()."
   ]
  },
  {
   "cell_type": "code",
   "execution_count": null,
   "id": "52b44452",
   "metadata": {},
   "outputs": [],
   "source": []
  }
 ],
 "metadata": {
  "kernelspec": {
   "display_name": "Python 3 (ipykernel)",
   "language": "python",
   "name": "python3"
  },
  "language_info": {
   "codemirror_mode": {
    "name": "ipython",
    "version": 3
   },
   "file_extension": ".py",
   "mimetype": "text/x-python",
   "name": "python",
   "nbconvert_exporter": "python",
   "pygments_lexer": "ipython3",
   "version": "3.11.4"
  }
 },
 "nbformat": 4,
 "nbformat_minor": 5
}
