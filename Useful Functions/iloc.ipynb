{
 "cells": [
  {
   "cell_type": "markdown",
   "id": "77eb7223",
   "metadata": {},
   "source": [
    "# 🔢 iloc()\n",
    "\n",
    "La función `iloc()` en Pandas se utiliza para realizar indexación basada en ubicación (por posición) en un DataFrame o Serie. La palabra \"iloc\" proviene de \"integer location\", ya que se utiliza para acceder a los elementos por su posición entera en lugar de por su etiqueta.\n",
    "\n",
    "La sintaxis básica de `iloc()` es la siguiente:\n",
    "\n",
    "- Para un DataFrame:\n",
    "\n",
    "  ```python\n",
    "  DataFrame.iloc[row_index, column_index]\n",
    "  ```\n",
    "\n",
    "- Para una Serie:\n",
    "\n",
    "  ```python\n",
    "  Serie.iloc[index]\n",
    "  ```\n",
    "\n",
    "Aquí, `row_index` representa el índice de la fila que deseas seleccionar y `column_index` representa el índice de la columna. Puedes proporcionar un solo valor o una lista de valores para seleccionar múltiples filas o columnas."
   ]
  },
  {
   "cell_type": "markdown",
   "id": "bdcaf42e",
   "metadata": {},
   "source": [
    "---\n",
    "### Ejemplo en un DataFrame:\n",
    "En este ejemplo, iloc[0, 1] selecciona el valor en la primera fila (índice 0) y segunda columna (índice 1)."
   ]
  },
  {
   "cell_type": "code",
   "execution_count": 1,
   "id": "b5e28edd",
   "metadata": {},
   "outputs": [
    {
     "name": "stdout",
     "output_type": "stream",
     "text": [
      "4\n"
     ]
    }
   ],
   "source": [
    "import pandas as pd\n",
    "\n",
    "# Crear un DataFrame de ejemplo\n",
    "data = {'A': [1, 2, 3],\n",
    "        'B': [4, 5, 6],\n",
    "        'C': [7, 8, 9]}\n",
    "df = pd.DataFrame(data)\n",
    "\n",
    "# Usar iloc para seleccionar el valor en la primera fila y segunda columna\n",
    "value = df.iloc[0, 1]\n",
    "\n",
    "print(value)  # Salida: 4"
   ]
  },
  {
   "cell_type": "markdown",
   "id": "3c01f75c",
   "metadata": {},
   "source": [
    "---\n",
    "### Ejemplo en una Serie:\n",
    "En este caso, iloc[1] selecciona el valor en la segunda posición de la Serie, que es 20."
   ]
  },
  {
   "cell_type": "code",
   "execution_count": 2,
   "id": "f67351a6",
   "metadata": {},
   "outputs": [
    {
     "name": "stdout",
     "output_type": "stream",
     "text": [
      "20\n"
     ]
    }
   ],
   "source": [
    "import pandas as pd\n",
    "\n",
    "# Crear una Serie de ejemplo\n",
    "serie = pd.Series([10, 20, 30], index=['a', 'b', 'c'])\n",
    "\n",
    "# Usar iloc para seleccionar el valor en la segunda posición\n",
    "value = serie.iloc[1]\n",
    "\n",
    "print(value)  # Salida: 20"
   ]
  },
  {
   "cell_type": "code",
   "execution_count": null,
   "id": "794df097",
   "metadata": {},
   "outputs": [],
   "source": []
  }
 ],
 "metadata": {
  "kernelspec": {
   "display_name": "Python 3 (ipykernel)",
   "language": "python",
   "name": "python3"
  },
  "language_info": {
   "codemirror_mode": {
    "name": "ipython",
    "version": 3
   },
   "file_extension": ".py",
   "mimetype": "text/x-python",
   "name": "python",
   "nbconvert_exporter": "python",
   "pygments_lexer": "ipython3",
   "version": "3.11.4"
  }
 },
 "nbformat": 4,
 "nbformat_minor": 5
}
