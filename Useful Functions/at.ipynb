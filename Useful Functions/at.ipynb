{
 "cells": [
  {
   "cell_type": "markdown",
   "id": "e4c2cefd",
   "metadata": {},
   "source": [
    "# 🔎 'at' method\n",
    "\n",
    "En pandas, el método `at` se utiliza para acceder y modificar un solo valor en un DataFrame. Proporciona una forma eficiente de realizar asignaciones directas a elementos específicos en el DataFrame, siendo más rápido que otros métodos de acceso y modificación.\n",
    "\n",
    "La sintaxis básica de `at` es la siguiente:\n",
    "\n",
    "```python\n",
    "df.at[row, column] = value\n",
    "```\n",
    "\n",
    "Donde:\n",
    "- `row` es el índice de la fila.\n",
    "- `column` es el nombre de la columna.\n",
    "- `value` es el valor que se va a asignar.\n",
    "\n",
    "Por ejemplo, si tienes un DataFrame llamado `df` y deseas cambiar el valor en la fila con índice 2 y columna 'Nombre' a 'NuevoNombre', puedes hacerlo con `at` de la siguiente manera:\n",
    "\n",
    "```python\n",
    "df.at[2, 'Nombre'] = 'NuevoNombre'\n",
    "```\n",
    "\n",
    "Es importante tener en cuenta que `at` está diseñado para ser utilizado cuando se trabaja con un solo valor. Si necesitas realizar asignaciones más complejas o modificar varios valores al mismo tiempo, existen otros métodos y técnicas en pandas que pueden ser más apropiados."
   ]
  },
  {
   "cell_type": "code",
   "execution_count": 1,
   "id": "729eaa0c",
   "metadata": {},
   "outputs": [
    {
     "data": {
      "text/html": [
       "<div>\n",
       "<style scoped>\n",
       "    .dataframe tbody tr th:only-of-type {\n",
       "        vertical-align: middle;\n",
       "    }\n",
       "\n",
       "    .dataframe tbody tr th {\n",
       "        vertical-align: top;\n",
       "    }\n",
       "\n",
       "    .dataframe thead th {\n",
       "        text-align: right;\n",
       "    }\n",
       "</style>\n",
       "<table border=\"1\" class=\"dataframe\">\n",
       "  <thead>\n",
       "    <tr style=\"text-align: right;\">\n",
       "      <th></th>\n",
       "      <th>V</th>\n",
       "      <th>H</th>\n",
       "      <th>Visitor</th>\n",
       "      <th>Home</th>\n",
       "    </tr>\n",
       "  </thead>\n",
       "  <tbody>\n",
       "    <tr>\n",
       "      <th>0</th>\n",
       "      <td>3</td>\n",
       "      <td>5</td>\n",
       "      <td>Team A</td>\n",
       "      <td>Team X</td>\n",
       "    </tr>\n",
       "    <tr>\n",
       "      <th>1</th>\n",
       "      <td>2</td>\n",
       "      <td>1</td>\n",
       "      <td>Team B</td>\n",
       "      <td>Team Y</td>\n",
       "    </tr>\n",
       "    <tr>\n",
       "      <th>2</th>\n",
       "      <td>4</td>\n",
       "      <td>2</td>\n",
       "      <td>Team C</td>\n",
       "      <td>Team Z</td>\n",
       "    </tr>\n",
       "  </tbody>\n",
       "</table>\n",
       "</div>"
      ],
      "text/plain": [
       "   V  H Visitor    Home\n",
       "0  3  5  Team A  Team X\n",
       "1  2  1  Team B  Team Y\n",
       "2  4  2  Team C  Team Z"
      ]
     },
     "execution_count": 1,
     "metadata": {},
     "output_type": "execute_result"
    }
   ],
   "source": [
    "import pandas as pd\n",
    "\n",
    "# Ejemplo de DataFrame\n",
    "data = {'V': [3, 2, 4], 'H': [5, 1, 2], \n",
    "        'Visitor': ['Team A', 'Team B', 'Team C'], \n",
    "        'Home': ['Team X', 'Team Y', 'Team Z']}\n",
    "df = pd.DataFrame(data)\n",
    "df"
   ]
  },
  {
   "cell_type": "code",
   "execution_count": 2,
   "id": "cec8e2ef",
   "metadata": {},
   "outputs": [],
   "source": [
    "# Asignación basada en condiciones\n",
    "for i in range(len(df)):\n",
    "    if df.iloc[i].V > df.iloc[i].H:\n",
    "        df.at[i, 'Winner'] = df.iloc[i].Visitor\n",
    "    elif df.iloc[i].H > df.iloc[i].V:\n",
    "        df.at[i, 'Winner'] = df.iloc[i].Home"
   ]
  },
  {
   "cell_type": "code",
   "execution_count": 3,
   "id": "90ad10be",
   "metadata": {},
   "outputs": [
    {
     "data": {
      "text/html": [
       "<div>\n",
       "<style scoped>\n",
       "    .dataframe tbody tr th:only-of-type {\n",
       "        vertical-align: middle;\n",
       "    }\n",
       "\n",
       "    .dataframe tbody tr th {\n",
       "        vertical-align: top;\n",
       "    }\n",
       "\n",
       "    .dataframe thead th {\n",
       "        text-align: right;\n",
       "    }\n",
       "</style>\n",
       "<table border=\"1\" class=\"dataframe\">\n",
       "  <thead>\n",
       "    <tr style=\"text-align: right;\">\n",
       "      <th></th>\n",
       "      <th>V</th>\n",
       "      <th>H</th>\n",
       "      <th>Visitor</th>\n",
       "      <th>Home</th>\n",
       "      <th>Winner</th>\n",
       "    </tr>\n",
       "  </thead>\n",
       "  <tbody>\n",
       "    <tr>\n",
       "      <th>0</th>\n",
       "      <td>3</td>\n",
       "      <td>5</td>\n",
       "      <td>Team A</td>\n",
       "      <td>Team X</td>\n",
       "      <td>Team X</td>\n",
       "    </tr>\n",
       "    <tr>\n",
       "      <th>1</th>\n",
       "      <td>2</td>\n",
       "      <td>1</td>\n",
       "      <td>Team B</td>\n",
       "      <td>Team Y</td>\n",
       "      <td>Team B</td>\n",
       "    </tr>\n",
       "    <tr>\n",
       "      <th>2</th>\n",
       "      <td>4</td>\n",
       "      <td>2</td>\n",
       "      <td>Team C</td>\n",
       "      <td>Team Z</td>\n",
       "      <td>Team C</td>\n",
       "    </tr>\n",
       "  </tbody>\n",
       "</table>\n",
       "</div>"
      ],
      "text/plain": [
       "   V  H Visitor    Home  Winner\n",
       "0  3  5  Team A  Team X  Team X\n",
       "1  2  1  Team B  Team Y  Team B\n",
       "2  4  2  Team C  Team Z  Team C"
      ]
     },
     "execution_count": 3,
     "metadata": {},
     "output_type": "execute_result"
    }
   ],
   "source": [
    "# Mostrar el DataFrame resultante\n",
    "df"
   ]
  },
  {
   "cell_type": "code",
   "execution_count": null,
   "id": "88185910",
   "metadata": {},
   "outputs": [],
   "source": []
  }
 ],
 "metadata": {
  "kernelspec": {
   "display_name": "Python 3 (ipykernel)",
   "language": "python",
   "name": "python3"
  },
  "language_info": {
   "codemirror_mode": {
    "name": "ipython",
    "version": 3
   },
   "file_extension": ".py",
   "mimetype": "text/x-python",
   "name": "python",
   "nbconvert_exporter": "python",
   "pygments_lexer": "ipython3",
   "version": "3.11.4"
  }
 },
 "nbformat": 4,
 "nbformat_minor": 5
}
