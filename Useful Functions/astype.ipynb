{
 "cells": [
  {
   "cell_type": "markdown",
   "id": "bf366864",
   "metadata": {},
   "source": [
    "# Funcion `astype`\n",
    "\n",
    "La función `astype` en Python se utiliza para **cambiar el tipo de datos de un objeto a otro**. En el contexto de pandas, que es una biblioteca de análisis de datos en Python, `astype` se usa para cambiar el tipo de datos de una columna en un DataFrame.\n",
    "\n",
    "En este ejemplo, `astype` se utiliza para cambiar el tipo de datos de las columnas 'Columna1' y 'Columna2'. La función acepta como argumento el nuevo tipo de datos al cual se desea convertir la columna.\n",
    "\n",
    "Es importante tener en cuenta que al realizar conversiones de tipo de datos, es posible que se pierda información si la conversión no es posible. Por ejemplo, si intentas convertir una columna que contiene cadenas de texto a un tipo de datos numérico y hay valores no numéricos, podría generarse un error o los valores no numéricos podrían convertirse a NaN (Not a Number) en el caso de tipos de datos numéricos.\n",
    "\n",
    "Aquí el ejemplo de cómo usar astype en pandas:"
   ]
  },
  {
   "cell_type": "code",
   "execution_count": 1,
   "id": "b8c25743",
   "metadata": {},
   "outputs": [
    {
     "data": {
      "text/html": [
       "<div>\n",
       "<style scoped>\n",
       "    .dataframe tbody tr th:only-of-type {\n",
       "        vertical-align: middle;\n",
       "    }\n",
       "\n",
       "    .dataframe tbody tr th {\n",
       "        vertical-align: top;\n",
       "    }\n",
       "\n",
       "    .dataframe thead th {\n",
       "        text-align: right;\n",
       "    }\n",
       "</style>\n",
       "<table border=\"1\" class=\"dataframe\">\n",
       "  <thead>\n",
       "    <tr style=\"text-align: right;\">\n",
       "      <th></th>\n",
       "      <th>Columna1</th>\n",
       "      <th>Columna2</th>\n",
       "    </tr>\n",
       "  </thead>\n",
       "  <tbody>\n",
       "    <tr>\n",
       "      <th>0</th>\n",
       "      <td>1</td>\n",
       "      <td>4.0</td>\n",
       "    </tr>\n",
       "    <tr>\n",
       "      <th>1</th>\n",
       "      <td>2</td>\n",
       "      <td>5.0</td>\n",
       "    </tr>\n",
       "    <tr>\n",
       "      <th>2</th>\n",
       "      <td>3</td>\n",
       "      <td>6.0</td>\n",
       "    </tr>\n",
       "  </tbody>\n",
       "</table>\n",
       "</div>"
      ],
      "text/plain": [
       "   Columna1  Columna2\n",
       "0         1       4.0\n",
       "1         2       5.0\n",
       "2         3       6.0"
      ]
     },
     "execution_count": 1,
     "metadata": {},
     "output_type": "execute_result"
    }
   ],
   "source": [
    "import pandas as pd\n",
    "\n",
    "# Crear un DataFrame de ejemplo\n",
    "data = {'Columna1': [1, 2, 3], 'Columna2': [4.0, 5.0, 6.0]}\n",
    "df = pd.DataFrame(data)\n",
    "df"
   ]
  },
  {
   "cell_type": "code",
   "execution_count": 2,
   "id": "c2718059",
   "metadata": {},
   "outputs": [
    {
     "name": "stdout",
     "output_type": "stream",
     "text": [
      "Tipos de datos originales:\n",
      "Columna1      int64\n",
      "Columna2    float64\n",
      "dtype: object\n"
     ]
    }
   ],
   "source": [
    "# Mostrar los tipos de datos originales\n",
    "print(\"Tipos de datos originales:\")\n",
    "print(df.dtypes)"
   ]
  },
  {
   "cell_type": "code",
   "execution_count": 3,
   "id": "23cb22c3",
   "metadata": {},
   "outputs": [
    {
     "name": "stdout",
     "output_type": "stream",
     "text": [
      "\n",
      "Tipos de datos después de la conversión:\n",
      "Columna1    float64\n",
      "Columna2      int32\n",
      "dtype: object\n"
     ]
    }
   ],
   "source": [
    "# Cambiar el tipo de datos de 'Columna1' a tipo de datos de punto flotante\n",
    "df['Columna1'] = df['Columna1'].astype(float)\n",
    "\n",
    "# Cambiar el tipo de datos de 'Columna2' a tipo de datos entero\n",
    "df['Columna2'] = df['Columna2'].astype(int)\n",
    "\n",
    "# Mostrar los tipos de datos después de la conversión\n",
    "print(\"\\nTipos de datos después de la conversión:\")\n",
    "print(df.dtypes)"
   ]
  },
  {
   "cell_type": "code",
   "execution_count": null,
   "id": "1e3c673a",
   "metadata": {},
   "outputs": [],
   "source": []
  }
 ],
 "metadata": {
  "kernelspec": {
   "display_name": "Python 3 (ipykernel)",
   "language": "python",
   "name": "python3"
  },
  "language_info": {
   "codemirror_mode": {
    "name": "ipython",
    "version": 3
   },
   "file_extension": ".py",
   "mimetype": "text/x-python",
   "name": "python",
   "nbconvert_exporter": "python",
   "pygments_lexer": "ipython3",
   "version": "3.11.4"
  }
 },
 "nbformat": 4,
 "nbformat_minor": 5
}
